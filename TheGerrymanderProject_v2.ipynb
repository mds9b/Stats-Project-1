{
  "nbformat": 4,
  "nbformat_minor": 0,
  "metadata": {
    "colab": {
      "name": "TheGerrymanderProject.ipynb",
      "provenance": [],
      "collapsed_sections": [],
      "include_colab_link": true
    },
    "kernelspec": {
      "display_name": "Python 3",
      "language": "python",
      "name": "python3"
    },
    "language_info": {
      "codemirror_mode": {
        "name": "ipython",
        "version": 3
      },
      "file_extension": ".py",
      "mimetype": "text/x-python",
      "name": "python",
      "nbconvert_exporter": "python",
      "pygments_lexer": "ipython3",
      "version": "3.7.7"
    }
  },
  "cells": [
    {
      "cell_type": "markdown",
      "metadata": {
        "id": "view-in-github",
        "colab_type": "text"
      },
      "source": [
        "<a href=\"https://colab.research.google.com/github/mds9b/Stats-Project-1/blob/main/TheGerrymanderProject_v2.ipynb\" target=\"_parent\"><img src=\"https://colab.research.google.com/assets/colab-badge.svg\" alt=\"Open In Colab\"/></a>"
      ]
    },
    {
      "cell_type": "markdown",
      "metadata": {
        "id": "aUUsijeg_KV9"
      },
      "source": [
        "# **Gerrymandering Project**\n",
        "\n",
        "**Project Statement**\n",
        "\n",
        "\n",
        "The following project represents a collaborative effort to explore dynamic programming through the problem of gerrymandering. Namely, our team sought to determine wehther gerrymandering is possible. For each precinct, which is comprised of a number of districts, there will be some fraction which votes for party A (e.g. Republican), Party B (e.g. Democrat), or other (e.g. independent). \n",
        "\n",
        "---"
      ]
    },
    {
      "cell_type": "markdown",
      "metadata": {
        "id": "D18KkNxwEDEw"
      },
      "source": [
        "*UVA CS 5012, August 2021*\n",
        "\n",
        "\n",
        "Alexander DeLuca, mcg4aw@virginia.edu\n",
        "\n",
        "Kelly Farrell, knf7vg@virginia.edu\n",
        "\n",
        "Samy Kebaish, sak3qf@virginia.edu\n",
        "\n",
        "Grant Redfield, tnx7bh@virginia.edu\n",
        "\n",
        "Matthew Sachs, mds9b@virginia.edu\n",
        "\n",
        "Anita Taucher, agt4vw@virginia.edu"
      ]
    },
    {
      "cell_type": "markdown",
      "metadata": {
        "id": "KTgSM3YsAd0b"
      },
      "source": [
        "## Introduction\n",
        "\n",
        "***Gerrymandering***\n",
        "\n",
        "\n",
        "The etymology of gerrymandering is a portmanteau of Gerry and Mander. The former refers to the former Vice President of the United States, Gerry Eldridge; the latter is based on a drawing by Elkanah Tisdale, who redrew the map of the district akin to a monster, as an exaggeration of the seemingly unnatural shapes of the voting district. A dinner guester remarked its similarity to a salamnder, to which Richard Alsop replied, \"[No, a] Gerry Mander\"The name was derived during Gerry Eldridge's appointment as the Governor of Massachusetts. Specifically, in 1812, Massachusetts had devised and adopted electoral district boundaries under the auspices of new legislation. However, the Republican party held the State Senate Majority, and devised the distrct lines to improve their control over legislative districts. Consequently, in order to satisfy their capture of the majority, the Republican part drew the district lines such that a majority of Republican voters were present.\n",
        "\n",
        "***Dynamic Programming***\n",
        "\n",
        "In order to determine whether gerrymandering is possible for a particular district, our team constructed a dynamic programming algorithm. In particular, a greedy algorithm was used, in which a sequence of choices are made, and each choice selects the optimal heuristic at that step (the optimal or \"best\" choice representing the greedy component). Some publications have refferred to four greedy principles: \n",
        "\n",
        "\n",
        "\n",
        "1.   Best-Global: a partial solution is considered which is best with respect to local optimality criterion; optimality is only guaranteed for completed solutions\n",
        "2.   Better Global: similar to best, but stronger, in the sense that, in a situation with two partial solutions, the first that is better than the second is selected. \n",
        "3.   Best Local: during the running of the alogirthm, the partial solution that is the best thus far, with respect to the local optimality criterion, remains the best after applying the greedy step. \n",
        "4.   Better Local: the strongest of the four principles, in which, given the result of a construction step on the second, there is a way of performing a construction step on the first that is at least as good with respecct to the local optimality criterion. \n",
        "\n",
        "\n",
        "![greedy_principles.png](data:image/png;base64,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)\n",
        "\n",
        "\n",
        "References: https://www.smithsonianmag.com/history/where-did-term-gerrymander-come-180964118/\n",
        "\n",
        "https://core.ac.uk/download/pdf/82042073.pdf"
      ]
    },
    {
      "cell_type": "markdown",
      "metadata": {
        "id": "nRU3TOLiAf2O"
      },
      "source": [
        "## The Problem"
      ]
    },
    {
      "cell_type": "markdown",
      "metadata": {
        "id": "ps0ErNjMDIEq"
      },
      "source": [
        "## The Data\n",
        "\n",
        "Voter Registration data by precinct and district is maintained by states.  There is not a central federal database that tracks the state breakdowns and voter registrations.  This makes sense because voting is executed by each state, and they have leeway to maintain voting data as they see necessary; but it makes our goal a little more difficult to reach.\n",
        "\n",
        "Not all states maintain voter registration data by party.  In fact, not all states require a party declaration for voters during registration.\n",
        "\n",
        "For the scope of our project, we have chosen to target states where data is available with the following breakdown:\n",
        "\n",
        "* Precinct\n",
        "\n",
        "* District\n",
        "\n",
        "* Registered Republicans\n",
        "\n",
        "* Registered Democrats\n"
      ]
    },
    {
      "cell_type": "markdown",
      "metadata": {
        "id": "SSTFnF4iqfBQ"
      },
      "source": [
        "### Storage\n",
        "For data storage and retrieval we are using SQLite.  Here, we establish a connection to the database and define a cursor to be used throughout the project."
      ]
    },
    {
      "cell_type": "code",
      "metadata": {
        "id": "gnyphm3hrXdE"
      },
      "source": [
        "import sqlite3 # https://docs.python.org/3/library/sqlite3.html\n",
        "import pandas as pd\n",
        "import matplotlib.pyplot as plt\n",
        "import seaborn as sns\n",
        "import scipy.stats  as stats\n",
        "import math\n",
        "import numpy as np\n",
        "\n",
        "## Establish a connection to our database\n",
        "conn = sqlite3.connect('gerrymander.db')\n",
        "\n",
        "## Create a cursor to execute commands through the connection\n",
        "cursor = conn.cursor()\n"
      ],
      "execution_count": null,
      "outputs": []
    },
    {
      "cell_type": "markdown",
      "metadata": {
        "id": "Q3cjCjRa4S38"
      },
      "source": [
        "### Redeploy the Database every time\n",
        "\n",
        "To make it easier to rebuild and deploy to new environments, we have provided a \"recreate\" flag.  When recreate is True, we drop existing tables and recreate them from scratch.  We also prefer to recreate for an easier delivery of the .ipynb file; anyone can deploy the entire database on their preferred notebook platform.\n",
        "\n",
        "Our approach for inserting data is efficient and fast, so rebuilding is clean, quick, and easy."
      ]
    },
    {
      "cell_type": "code",
      "metadata": {
        "id": "nEH2Zat2rowu"
      },
      "source": [
        "## When recreate is True, we drop all database tables and recreate them for an updated, clean deployment.\n",
        "\n",
        "recreate = True\n",
        "\n",
        "if recreate == True:\n",
        "\n",
        "  cursor.execute(\"DROP TABLE IF EXISTS precinct\")\n",
        "  cursor.execute(\"DROP TABLE IF EXISTS party\")\n",
        "  cursor.execute(\"DROP VIEW IF EXISTS for_algo\")\n",
        "  conn.commit()\n",
        "\n",
        "  # Quick verification to make sure everything was dropped\n",
        "  cursor.execute(\"SELECT name FROM sqlite_master WHERE type='table'\")\n",
        "  cursor.fetchall()\n",
        "\n"
      ],
      "execution_count": null,
      "outputs": []
    },
    {
      "cell_type": "markdown",
      "metadata": {
        "id": "5GJyNeC_5KpK"
      },
      "source": [
        "### Talk to GitHub\n",
        "We store the scripts for building the database, including the data and schema, in a github repository.  We are using python's urllib3 library to communicate over https.  In this step, as required by urllib3, we define a pool manager to communicate over https with our github repo."
      ]
    },
    {
      "cell_type": "code",
      "metadata": {
        "id": "bjs2nOzOqghR"
      },
      "source": [
        "## Our SQL Scripts are in Github\n",
        "## prepare to read from github\n",
        "import urllib3\n",
        "urllib3.disable_warnings(urllib3.exceptions.InsecureRequestWarning)\n",
        "\n",
        "gitread = urllib3.PoolManager()\n"
      ],
      "execution_count": null,
      "outputs": []
    },
    {
      "cell_type": "markdown",
      "metadata": {
        "id": "iMX-aytKpLAI"
      },
      "source": [
        "# *Parameters Used*\n",
        "\n",
        "Prior to data procurement, we needed to develop a team-wide understanding of the requisite algorithmic inputs. This paradigm allowed us to set a minimum data standard for all state data sets; the lack of a federal database necessitated a state-first approach. With Brittanica defining gerrymandering as “the practice of drawing the boundaries of electoral districts in a way that gives one political party an unfair advantage over its rivals”, we could safely conclude that we needed district level data and their composite precincts. These district and precinct variables configure the boundary, and along with Democratic and Republican voter counts, are the primary inputs we need.Democrat and Republican voters counts represent a topic worthy of further discussion. Though the American political system is largely defined by extreme bipartisanship, there are various third parties with significant registration numbers and voter turnouts. However, since these various third parties do not have the political heft nor the voter base to indulge in gerrymandering, they can be safely removed from consideration in the algorithm. From a data standpoint, this means we only need Democrat and Republican counts with their cumulative total.The real point of contention revolved around whether to use voter registrationnumbers or voter turnout numbers. The consensus was that, in heavily red or heavily blue precincts, having the outcome as a foregone conclusion could introduce a biased suppressant of voter turnout. This inclination is widely supportedby research, “there is far greater variation in primary election turnout rates, depending on how many seriously contested races are on the ballot”. Due to this difficult-to-account for bias, we thought registration numbers were a more apt depiction of a precinct’s voting potential. There was a downside to this, unfortunately. Although there was a wealth of voter turnout data, voter registration data was far sparser and not consistently compiled state to state."
      ]
    },
    {
      "cell_type": "markdown",
      "metadata": {
        "id": "XTayVR3OpLAI"
      },
      "source": [
        "**Parameters**\n",
        "\n",
        "\n",
        "n = number of individuals per *precinct*\n",
        "\n",
        "\n",
        "Given: \n",
        "M - Number of People Per Precinct \n",
        "$A_{1}$, $A_{2}$, ... $A_{n}$ where A \n",
        "\n",
        "\n",
        "Output: 2 districts, |$D_{1}$|, |$D_{2}$|\n",
        "\n",
        "1. Where |$D_{1}$| = |$D_{2}$|, i.e. The same number of precincts. \n",
        "\n",
        "2. \n",
        "We want to determine whether A has a majority in both districts, i.e. the total number of people divided by four\n",
        "\n",
        "A($D_{1}$) > m * n/4 \n",
        "\n",
        "A($D_{2}$) > m * n /4 i.e. "
      ]
    },
    {
      "cell_type": "markdown",
      "metadata": {
        "id": "NB5wvqumpLAJ"
      },
      "source": [
        "**Algorithm Schema**\n",
        "\n",
        " $S_{j}$,$_{k}$,$_{x}$,$_{y}$ =  $S_{j-1}$,$_{k-1}$,$_{x-A_j}$,$_{y}$ \n",
        "\n",
        "\n",
        "\n",
        "\n",
        "\n",
        "```\n",
        "for j =1 to n\n",
        "  for k = 1 to n/2\n",
        "    for x = 1 to m*j \n",
        "      for y = 1 to m*j\n",
        "      \n",
        "```\n",
        "\n",
        "\n",
        "\n",
        "\n",
        " $S_{j}$,$_{k}$,$_{x}$,$_{y}$ = there is a split of first j precincts in which |𝐷1| = k and x people in D1 vote A and y people in D2 vote A \n"
      ]
    },
    {
      "cell_type": "markdown",
      "metadata": {
        "id": "PUtLkgvJ241n"
      },
      "source": [
        "# Gerrymandering Algorithm (code)"
      ]
    },
    {
      "cell_type": "code",
      "metadata": {
        "id": "AJpRKbIi22Wo"
      },
      "source": [
        "class NDSparseMatrix:\n",
        "  def __init__(self):\n",
        "    self.elements = {}\n",
        "\n",
        "  def addValue(self, tuple, value):\n",
        "    self.elements[tuple] = value\n",
        "\n",
        "  def readValue(self, tuple):\n",
        "    try:\n",
        "      value = self.elements[tuple]\n",
        "    except KeyError:\n",
        "      value = 0\n",
        "    return value\n",
        "\n",
        "\n",
        "SuperMatrix = NDSparseMatrix()\n",
        "SuperMatrix.addValue((0,0,0,0), 1)\n",
        "\n",
        "\n",
        "def GerryManderingIdentifier(df):\n",
        "    Percent_Done_List = [\"25\", \"50\", \"75\"]\n",
        "    i = 0\n",
        "    Number_of_Precincts = len(df.index) - 1\n",
        "    Total_Votes = df['Total_Votes'].sum().astype(int)\n",
        "    Half_Precincts = math.ceil(Number_of_Precincts/2)\n",
        "    Total_Matrix_Size = Number_of_Precincts * Number_of_Precincts * Total_Votes * Total_Votes\n",
        "    count = 0\n",
        "    Percent_Done = .25 * Total_Matrix_Size\n",
        "    for j in range(1, Number_of_Precincts + 1):\n",
        "        for k in range(1, Number_of_Precincts + 1):\n",
        "            for x in range(0, Total_Votes + 1):\n",
        "                for y in range(0, Total_Votes + 1):\n",
        "                    count = count + 1\n",
        "                    if count > Percent_Done and i < 3:\n",
        "                      print(Percent_Done_List[i],\"% Done\")\n",
        "                      Percent_Done = Percent_Done + (.25 * Total_Matrix_Size)\n",
        "                      i = i + 1\n",
        "                    if SuperMatrix.readValue((j - 1,k - 1, x - df['REP_VOTES'][j],y)) == 1 or SuperMatrix.readValue((j - 1,k,x,y - df['REP_VOTES'][j])) == 1:\n",
        "                        SuperMatrix.addValue((j, k, x, y), 1)  \n",
        "                    if j == (Number_of_Precincts) and k == (Half_Precincts) and x > Total_Votes/4 and y > Total_Votes/4 and SuperMatrix.readValue((j, k, x, y)) == 1:\n",
        "                        print(\"final J\", j)\n",
        "                        print(\"final K\", k)\n",
        "                        print(\"final X\", x)\n",
        "                        print(\"final Y\", y)\n",
        "                        return True\n",
        "                        break\n",
        "    return False\n",
        "\n",
        "\n",
        "\n",
        "\n",
        "\n",
        "\n"
      ],
      "execution_count": null,
      "outputs": []
    },
    {
      "cell_type": "markdown",
      "metadata": {
        "id": "vNTUq_irpLAK"
      },
      "source": [
        "**Algorithmic Analysis**\n",
        "\n",
        "In terms of time complexity, due to the series of nested loops, the run-time is approximately O($n^4m^2$). As can be seen in the interactive graph belows, the algorithm is bound primarily by the quartic term: n^4.That is, when plotting just $n^4$ against $m^2$, the regression for the ($n^4$) terms dwarfs that of the $m^2$ term. Then, in the second graph, the dot product, $n^4m^2$, is compared against $n^4$ against $m^2$, respectively, which takes a far greater runtime than the n and m terms on their own, respectively.  This is explained by the combinatorial product of each step of the algorithm, which is O(n) in the first step, O(n) in the second step, O(m*n) in the second step, and O(m*n) in the third step. \n",
        "\n",
        "1. O(n)\n",
        "2. O(n)\n",
        "3. O(m*n) \n",
        "4. O(m*n) \n"
      ]
    },
    {
      "cell_type": "code",
      "metadata": {
        "id": "gL8uko6HpLAK",
        "outputId": "b4a120db-fc51-4d04-dcd9-f8e350725e9d"
      },
      "source": [
        "import seaborn as sns\n",
        "import numpy as np\n",
        "import pandas as pd\n",
        "import matplotlib.pyplot as plt\n",
        "\n",
        "\n",
        "n_terms = list(range(0, 101))\n",
        "m_terms = list(range(0,101))\n",
        "\n",
        "n_terms_to_the_fourth = np.array([x**4 for x in n_terms])\n",
        "m_terms_to_the_second = np.array([y**2 for y in m_terms])\n",
        "\n",
        "\n",
        "\n",
        "def time_complexity_conversion(n_arr, m_arr): \n",
        "  \n",
        "  i = 0\n",
        "\n",
        "  m_n_list = []\n",
        "\n",
        "  while i < len(n_arr):\n",
        "    m_n_term = n_terms_to_the_fourth[i] * m_terms_to_the_second[i]\n",
        "    m_n_list.append(m_n_term)\n",
        "\n",
        "    i+=1 \n",
        "\n",
        "  return m_n_list\n",
        "\n",
        "\n",
        "m_n_terms = np.array(time_complexity_conversion(n_terms, m_terms))\n",
        "\n",
        "df = pd.DataFrame({'n': n_terms_to_the_fourth, 'm': m_terms_to_the_second, 'mn': m_n_terms})\n",
        "df_2 = pd.DataFrame({'n': n_terms_to_the_fourth, 'm': m_terms_to_the_second})\n",
        "\n",
        "fig, ax =plt.subplots(1,2)\n",
        "sns.lineplot(data = df, ax=ax[0])\n",
        "sns.lineplot(data = df_2, ax=ax[1])\n",
        "fig.show()\n",
        "\n"
      ],
      "execution_count": null,
      "outputs": [
        {
          "output_type": "stream",
          "text": [
            "/opt/anaconda3/lib/python3.7/site-packages/ipykernel_launcher.py:38: UserWarning: Matplotlib is currently using module://ipykernel.pylab.backend_inline, which is a non-GUI backend, so cannot show the figure.\n"
          ],
          "name": "stderr"
        },
        {
          "output_type": "display_data",
          "data": {
            "image/png": "[encoded data removed]",
            "text/plain": [
              "<Figure size 432x288 with 2 Axes>"
            ]
          },
          "metadata": {
            "tags": [],
            "needs_background": "light"
          }
        }
      ]
    },
    {
      "cell_type": "markdown",
      "metadata": {
        "id": "BFouLr3VRey6"
      },
      "source": [
        "Example Dataset to Test GerryMandering"
      ]
    },
    {
      "cell_type": "code",
      "metadata": {
        "colab": {
          "base_uri": "https://localhost:8080/"
        },
        "id": "j0tloVafRd_I",
        "outputId": "77696121-928f-4aa3-d811-3bc8285569e1"
      },
      "source": [
        "precinct_data = pd.DataFrame()\n",
        "precinct_data = precinct_data.append(pd.DataFrame({\"Presinct\":\"DUMMY ROW\",\"District\": 0,\"REP_VOTES\":0, \"DEM_VOTES\": 0, \"Total_Votes\": 0},index=[0]))\n",
        "precinct_data = precinct_data.append(pd.DataFrame({\"Presinct\":\"1-99092\",\"District\": 1,\"REP_VOTES\":65, \"DEM_VOTES\": 35, \"Total_Votes\": 100},index=[0]))\n",
        "precinct_data = precinct_data.append(pd.DataFrame({\"Presinct\":\"1-99093\",\"District\": 1,\"REP_VOTES\":60, \"DEM_VOTES\": 40, \"Total_Votes\": 100},index=[0]))\n",
        "precinct_data = precinct_data.append(pd.DataFrame({\"Presinct\":\"1-99094\",\"District\": 2,\"REP_VOTES\":45, \"DEM_VOTES\": 55, \"Total_Votes\": 100},index=[0]))\n",
        "precinct_data = precinct_data.append(pd.DataFrame({\"Presinct\":\"1-99095\",\"District\": 2,\"REP_VOTES\":47, \"DEM_VOTES\": 53, \"Total_Votes\": 100},index=[0]))\n",
        "precinct_data.reset_index(inplace = True)    \n",
        "precinct_data.drop('index',axis=1,inplace=True)\n",
        "\n",
        "\n",
        "\n",
        "LetsRun = GerryManderingIdentifier(precinct_data)\n",
        "\n",
        "if LetsRun:\n",
        "    print(\"GerryMandering is possible\")\n",
        "else:\n",
        "    print(\"GerryMandering is not possible\")\n",
        "\n",
        "\n"
      ],
      "execution_count": null,
      "outputs": [
        {
          "output_type": "stream",
          "text": [
            "25 % Done\n",
            "50 % Done\n",
            "75 % Done\n",
            "final J 4\n",
            "final K 2\n",
            "final X 110\n",
            "final Y 107\n",
            "GerryMandering is possible\n"
          ],
          "name": "stdout"
        }
      ]
    },
    {
      "cell_type": "markdown",
      "metadata": {
        "id": "wPARVGjCpLAM"
      },
      "source": [
        "# *Where Did We Get The Data*\n",
        "\n",
        "We ultimately opted for data across 5 states: Alaska, Arizona, Kentucky, North Carolina, and Rhode Island. A more pervasive data breadth would have theoreticallyunlocked more dynamic visualization tools, like a Heroku-hosted Python application,but the algorithm’s speed performance precluded any such need. We explore our individual data sets below.Alaska’s data was procured from the state of Alaska’s elections site, where the data is updated as of August 3. The format is quite amenable to data scraping and was fairly granular in the party breakdown, arranged in a wide format.\n",
        "\n",
        "Arizona’s data was neatly handed to us at the project kickoff and taken directly from Kaggle—with the caveat that is slightly more dated data from Q1 2019. Interestingly, this data is presented in a long format and requires data reshaping/preprocessing. We also noticed that the party labels are (unsurprisingly) inconsistent state to state.Kentucky’s data set was downloaded in PDF from their state election site and is updated as of July 15. The data is presented in a wide format and the party labels largely mirror that of Arizona’s data set. This dataset is supplemented with gender stratifications, which makes it an interesting candidate for further projects.For North Carolina, the data is organized in long format.Data for Rhode Island is in a long format and largely stripped of the granularity of the preceding datasets. Party identification labels are different and lumped into three categories, “Republican”, “Democrat”, and “Unaffiliated”. The accuracy of this“unaffiliated” group comes into question and epitomizes the bipartisan political lensthat drives most of the United States. As such, Rhode Island would likely represent the minimum state data collected and restrict any downstream analysis."
      ]
    },
    {
      "cell_type": "markdown",
      "metadata": {
        "id": "JX_L9nP251-J"
      },
      "source": [
        "### Build the tables\n",
        "\n",
        "In this step we build the schema structure.  The create statements are stored in scripts in github, so this section shows executing the contents of the tables.sql script that we read from github.\n",
        "\n",
        "We have two tables in our schema:  \n",
        "*  Precinct:  Holds all data for precincts, districts, and number of voter registrations by party.  There is a row for every party in each precinct, so precinct is not a unique key.  Additionally, within states, precinct is not unique, it must be used with district.\n",
        "\n",
        "* party:  An id and party name, just to keep the party data consistent within our database - party names and abbreviations change between states, but here we want them to be consistent.  Party can be joined with precinct on precinct.party = party.id\n"
      ]
    },
    {
      "cell_type": "code",
      "metadata": {
        "colab": {
          "base_uri": "https://localhost:8080/"
        },
        "id": "u_05MUkvDZzE",
        "outputId": "a399cfa0-62a8-4afb-dbad-45d7774a2afb"
      },
      "source": [
        "## Build the table structure\n",
        "## We have two tables:  party and precinct\n",
        "\n",
        "## The github url for the tables script\n",
        "create_tables = 'https://raw.githubusercontent.com/Sartire/gerrymander/main/State_Data/tables.sql'\n",
        "\n",
        "## GET contents of the tables.sql script from github\n",
        "dat = gitread.request(\"GET\", create_tables)\n",
        "\n",
        "## Execute the table creation commands \n",
        "cursor.executescript(dat.data.decode(\"utf-8\"))\n",
        "\n",
        "## Preprocess for algorithm to use\n",
        "view_def = ''' \n",
        "CREATE VIEW for_algo AS\n",
        "SELECT * FROM\n",
        "((SELECT STATE, PRECINCT, DISTRICT, VOTERS as REP_VOTES\n",
        "FROM precinct WHERE PARTY = 'REP') NATURAL JOIN (\n",
        "SELECT STATE, PRECINCT, DISTRICT, SUM(VOTERS) as Total_Votes\n",
        "FROM precinct\n",
        "WHERE PARTY = 'REP' OR PARTY = 'DEM'\n",
        "GROUP BY STATE, PRECINCT, DISTRICT))\n",
        "'''\n",
        "    \n",
        "cursor.execute(view_def)\n",
        "\n",
        "\n",
        "## Commit Schema Changes\n",
        "conn.commit()\n",
        "\n",
        "## Let's see the names of the tables we built\n",
        "ourtables = cursor.execute(\"SELECT name FROM sqlite_master WHERE type='table'\")\n",
        "\n",
        "if ourtables:\n",
        "  print('\\nTables in the Gerrymander Database\\n')\n",
        "  for atable in ourtables:\n",
        "    print(\"\\t\"+atable[0])\n"
      ],
      "execution_count": null,
      "outputs": [
        {
          "output_type": "stream",
          "text": [
            "\n",
            "Tables in the Gerrymander Database\n",
            "\n",
            "\tprecinct\n",
            "\tparty\n"
          ],
          "name": "stdout"
        }
      ]
    },
    {
      "cell_type": "code",
      "metadata": {
        "id": "1eBjCrB3pLAN",
        "outputId": "4d72e66b-fcda-4dab-9ab2-3be2f04835c7"
      },
      "source": [
        "sql = '''\n",
        "SELECT * from for_algo\n",
        "'''\n",
        "Arizona = pd.read_sql_query(sql, conn)\n",
        "print(Arizona)"
      ],
      "execution_count": null,
      "outputs": [
        {
          "output_type": "stream",
          "text": [
            "Empty DataFrame\n",
            "Columns: [STATE, PRECINCT, DISTRICT, REP_VOTES, Total_Votes]\n",
            "Index: []\n"
          ],
          "name": "stdout"
        }
      ]
    },
    {
      "cell_type": "markdown",
      "metadata": {
        "id": "INZPOin09Mix"
      },
      "source": [
        "### Arizona\n",
        "\n",
        "Here, we load the data from Arizona into our database.  The data is from Kaggle, and was suggested as our \"stake in the sand\" data.  Since Arizona's data had an entry for every party for each precinct, all of our data will follow the same format, no matter its original layout.\n",
        "\n",
        "[Arizona Data on Kaggle](https://www.kaggle.com/arizonaSecofState/arizona-voter-registration-by-precinct)"
      ]
    },
    {
      "cell_type": "code",
      "metadata": {
        "colab": {
          "base_uri": "https://localhost:8080/"
        },
        "id": "FXaIP5nM2tDD",
        "outputId": "b68f52f9-ad92-43b9-f10c-3a8f47b1b248"
      },
      "source": [
        "## Arizona!\n",
        "cursor.execute(\"DELETE FROM precinct WHERE STATE = 'AZ'\")\n",
        "conn.commit()\n",
        "\n",
        "az_url = 'https://raw.githubusercontent.com/Sartire/gerrymander/main/State_Data/az/az.insert.sql'\n",
        "\n",
        "## GET contents of the script from a github url \n",
        "dat = gitread.request(\"GET\", az_url)\n",
        "\n",
        "## INSERT Data using statements from the github insert script\n",
        "cursor.executescript(dat.data.decode(\"utf-8\"))\n",
        "conn.commit()\n",
        "\n",
        "## Quick verification that data was loaded for this state\n",
        "cursor.execute(\"SELECT count(*) from precinct\")\n",
        "verify = cursor.fetchone()[0]\n",
        "\n",
        "cursor.execute(\"SELECT sum(voters), party from precinct where state = 'AZ' group by party order by 1 DESC\")\n",
        "print(verify, cursor.fetchall())"
      ],
      "execution_count": null,
      "outputs": [
        {
          "output_type": "stream",
          "text": [
            "7270 [(1308384, 'REP'), (1251984, 'OTH'), (1169259, 'DEM'), (32096, 'LBT'), (6535, 'GRN')]\n"
          ],
          "name": "stdout"
        }
      ]
    },
    {
      "cell_type": "markdown",
      "metadata": {
        "id": "LfwaHd8hjGSs"
      },
      "source": [
        "Arizona GerryMandering Example"
      ]
    },
    {
      "cell_type": "code",
      "metadata": {
        "id": "YNbJZEuZjFGc",
        "outputId": "fcb9c566-ad40-4c7a-a357-b776e91a0ccd"
      },
      "source": [
        "#ARIZONA\n",
        "\n",
        "sql = '''\n",
        "SELECT * from for_algo where state = 'AZ'\n",
        "'''\n",
        "Arizona = pd.read_sql_query(sql, conn)\n",
        "\n",
        "\n",
        "#Some Presincts have only 1 or 2 voters. Lets look at Prescincts that have more than 100 total DEM/REP Voters\n",
        "Arizona = Arizona[(Arizona[\"Total_Votes\"] > 100)]\n",
        "Arizona.sort_values(by=['Total_Votes'], inplace=True)\n",
        "\n",
        "Arizona = Arizona.head(6)\n",
        "\n",
        "#Need an empty row in the 0th index\n",
        "empty_df = pd.DataFrame([[np.nan] * len(Arizona.columns)], columns=Arizona.columns)\n",
        "Arizona = empty_df.append(Arizona, ignore_index=True)\n",
        "Arizona = Arizona.reset_index(drop=True)\n",
        "\n",
        "\n",
        "if GerryManderingIdentifier(Arizona):\n",
        "  print(\"GerryMandering Possible In Arizona District\")\n",
        "else:\n",
        "  print(\"GerryMandering Not Possible In Arizona District\")"
      ],
      "execution_count": null,
      "outputs": [
        {
          "output_type": "stream",
          "text": [
            "25 % Done\n"
          ],
          "name": "stdout"
        }
      ]
    },
    {
      "cell_type": "markdown",
      "metadata": {
        "id": "Vi_JgRuyBwA8"
      },
      "source": [
        "### Kentucky\n",
        "\n",
        "The state of Kentucky updates and publishes voter registration on a regular basis.  Here, we are using data from July 2021.\n",
        "\n",
        "[Kentucky Data](https://elect.ky.gov/Resources/Documents/voterstatsprecinct-20210715-090237.pdf)\n"
      ]
    },
    {
      "cell_type": "code",
      "metadata": {
        "id": "lKtyVWzivSC7"
      },
      "source": [
        "## Kentucky!\n",
        "cursor.execute(\"DELETE FROM precinct WHERE STATE = 'KY'\")\n",
        "conn.commit()\n",
        "\n",
        "ky_url = 'https://raw.githubusercontent.com/Sartire/gerrymander/main/State_Data/ky/ky.insert.sql'\n",
        "\n",
        "## GET contents of the script from a github url \n",
        "dat = gitread.request(\"GET\", ky_url)\n",
        "\n",
        "## INSERT Data using statements from the github insert script\n",
        "cursor.executescript(dat.data.decode(\"utf-8\"))\n",
        "conn.commit()\n",
        "\n",
        "## Quick verification that data was loaded for this state\n",
        "cursor.execute(\"SELECT count(*) from precinct\")\n",
        "verify = cursor.fetchone()[0]\n",
        "\n",
        "cursor.execute(\"SELECT sum(voters), party from precinct where state = 'KY' group by party order by 1 DESC\")\n",
        "print(verify, cursor.fetchall())"
      ],
      "execution_count": null,
      "outputs": []
    },
    {
      "cell_type": "code",
      "metadata": {
        "colab": {
          "base_uri": "https://localhost:8080/"
        },
        "id": "VLjXj5R4jPgz",
        "outputId": "b3db8f22-f2d1-4ead-d142-da7c2b963bc1"
      },
      "source": [
        "#Kentucky\n",
        "\n",
        "sql = '''\n",
        "SELECT * from for_algo where state = 'KY'\n",
        "'''\n",
        "Kentucky = pd.read_sql_query(sql, conn)\n",
        "\n",
        "\n",
        "#Some Presincts have only 1 or 2 voters. Lets look at Prescincts that have more than 100 total DEM/REP Voters\n",
        "Kentucky = Kentucky[(Kentucky[\"Total_Votes\"] > 100)]\n",
        "Kentucky.sort_values(by=['Total_Votes'], inplace=True)\n",
        "\n",
        "Kentucky = Kentucky.head(6)\n",
        "\n",
        "#Need an empty row in the 0th index\n",
        "empty_df = pd.DataFrame([[np.nan] * len(Kentucky.columns)], columns=Kentucky.columns)\n",
        "Kentucky = empty_df.append(Kentucky, ignore_index=True)\n",
        "Kentucky = Kentucky.reset_index(drop=True)\n",
        "\n",
        "\n",
        "if GerryManderingIdentifier(Kentucky):\n",
        "  print(\"GerryMandering Possible In Kentucky District\")\n",
        "else:\n",
        "  print(\"GerryMandering Not Possible In Kentucky District\")"
      ],
      "execution_count": null,
      "outputs": [
        {
          "output_type": "stream",
          "text": [
            "       STATE_x PRECINCT  DISTRICT_x  ...  DISTRICT_y  PARTY_y VOTERS_y\n",
            "0           KY     A102  1-16-051-3  ...  1-16-051-3      DEM       70\n",
            "1           KY     A102  1-16-051-3  ...  1-16-051-3      REP      369\n",
            "2           KY     A102  1-16-051-3  ...  1-09-022-1      DEM      356\n",
            "3           KY     A102  1-16-051-3  ...  1-09-022-1      REP      872\n",
            "4           KY     A102  1-16-051-3  ...  6-07-053-5      DEM      711\n",
            "...        ...      ...         ...  ...         ...      ...      ...\n",
            "555923      KY     H103  6-07-056-5  ...  1-14-024-3      REP      144\n",
            "555924      KY     H103  6-07-056-5  ...  4-26-033-6      DEM      551\n",
            "555925      KY     H103  6-07-056-5  ...  4-26-033-6      REP      831\n",
            "555926      KY     H103  6-07-056-5  ...  6-07-056-5      DEM      508\n",
            "555927      KY     H103  6-07-056-5  ...  6-07-056-5      REP      613\n",
            "\n",
            "[555928 rows x 9 columns]\n",
            "25 % Done\n",
            "50 % Done\n",
            "75 % Done\n",
            "final J 6\n",
            "final K 3\n",
            "final X 154\n",
            "final Y 186\n",
            "GerryMandering Possible In Kentucky District\n"
          ],
          "name": "stdout"
        }
      ]
    },
    {
      "cell_type": "markdown",
      "metadata": {
        "id": "lH9uUmsWhP-E"
      },
      "source": [
        "### Rhode Island\n",
        "\n",
        "Rhode Island maintains a searchable database of voter information.  This data is from August 2021.\n",
        "\n",
        "[Rhode Island Voter Information](https://app.powerbigov.us/view?r=eyJrIjoiZmNjMDYyYzUtOTRjMS00OWUzLThlNzQtNTBhNjU0ZDdkMmQ5IiwidCI6IjJkMGYxZGI2LWRkNTktNDc3Mi04NjVmLTE5MTQxNzVkMDdjMiJ9)"
      ]
    },
    {
      "cell_type": "code",
      "metadata": {
        "colab": {
          "base_uri": "https://localhost:8080/"
        },
        "id": "MnwUEV_ypnS4",
        "outputId": "36558323-21dd-4317-bec0-b3a8007254ea"
      },
      "source": [
        "## Rhode Island\n",
        "## https://app.powerbigov.us/view?r=eyJrIjoiZmNjMDYyYzUtOTRjMS00OWUzLThlNzQtNTBhNjU0ZDdkMmQ5IiwidCI6IjJkMGYxZGI2LWRkNTktNDc3Mi04NjVmLTE5MTQxNzVkMDdjMiJ9\n",
        "\n",
        "cursor.execute(\"DELETE FROM precinct WHERE STATE = 'RI'\")\n",
        "conn.commit()\n",
        "\n",
        "ri_url = 'https://raw.githubusercontent.com/Sartire/gerrymander/main/State_Data/ri/riinsert.sql'\n",
        "\n",
        "## GET contents of the script from a github url \n",
        "dat = gitread.request(\"GET\", ri_url)\n",
        "\n",
        "## INSERT Data using statements from the github insert script\n",
        "cursor.executescript(dat.data.decode(\"utf-8\"))\n",
        "conn.commit()\n",
        "\n",
        "## Quick verification that data was loaded for this state\n",
        "cursor.execute(\"SELECT count(*) from precinct\")\n",
        "verify = cursor.fetchone()[0]\n",
        "\n",
        "cursor.execute(\"SELECT sum(voters), party from precinct where state = 'RI' group by party order by 1 DESC\")\n",
        "print(verify, cursor.fetchall())\n",
        "\n",
        "cursor.execute(\"SELECT * from precinct where state = 'RI' and precinct='101'\" )\n",
        "cursor.fetchall()"
      ],
      "execution_count": null,
      "outputs": [
        {
          "output_type": "stream",
          "text": [
            "57500 [(307416, 'OTH'), (299607, 'REP'), (99116, 'DEM')]\n"
          ],
          "name": "stdout"
        },
        {
          "output_type": "execute_result",
          "data": {
            "text/plain": [
              "[('RI', '101', 'Barrington', 'REP', 973),\n",
              " ('RI', '101', 'Barrington', 'DEM', 343),\n",
              " ('RI', '101', 'Barrington', 'OTH', 954)]"
            ]
          },
          "metadata": {
            "tags": []
          },
          "execution_count": 70
        }
      ]
    },
    {
      "cell_type": "code",
      "metadata": {
        "colab": {
          "base_uri": "https://localhost:8080/"
        },
        "id": "-l16fpabj7pK",
        "outputId": "c3a79642-0c8e-4c4a-d47e-2833244b22e5"
      },
      "source": [
        "#RhodeIsland\n",
        "\n",
        "sql = '''\n",
        "SELECT * from for_algo where state = 'RI'\n",
        "'''\n",
        "RhodeIsland = pd.read_sql_query(sql, conn)\n",
        "\n",
        "#Some Presincts have only 1 or 2 voters. Lets look at Prescincts that have more than 100 total DEM/REP Voters\n",
        "RhodeIsland = RhodeIsland[(RhodeIsland[\"Total_Votes\"] > 100)]\n",
        "RhodeIsland.sort_values(by=['Total_Votes'], inplace=True)\n",
        "\n",
        "RhodeIsland = RhodeIsland.head(6)\n",
        "\n",
        "#Need an empty row in the 0th index\n",
        "empty_df = pd.DataFrame([[np.nan] * len(RhodeIsland.columns)], columns=RhodeIsland.columns)\n",
        "RhodeIsland = empty_df.append(RhodeIsland, ignore_index=True)\n",
        "RhodeIsland = RhodeIsland.reset_index(drop=True)\n",
        "\n",
        "\n",
        "if GerryManderingIdentifier(RhodeIsland):\n",
        "  print(\"GerryMandering Possible In Rhode Island District\")\n",
        "else:\n",
        "  print(\"GerryMandering Not Possible In Rhode Island District\")"
      ],
      "execution_count": null,
      "outputs": [
        {
          "output_type": "stream",
          "text": [
            "25 % Done\n",
            "50 % Done\n",
            "75 % Done\n",
            "final J 6\n",
            "final K 3\n",
            "final X 202\n",
            "final Y 383\n",
            "GerryMandering Possible In Rhode Island District\n"
          ],
          "name": "stdout"
        }
      ]
    },
    {
      "cell_type": "markdown",
      "metadata": {
        "id": "_muoz7nJiZt0"
      },
      "source": [
        "### Alaska\n",
        "\n",
        "Alaska publishes voter party affiliation by precinct and district on their elections website.  This data is from August 2021.\n",
        "\n",
        "[Alaska Voter Statistics](https://www.elections.alaska.gov/statistics/2021/AUG/VOTERS%20BY%20PARTY%20AND%20PRECINCT.htm)"
      ]
    },
    {
      "cell_type": "code",
      "metadata": {
        "colab": {
          "base_uri": "https://localhost:8080/"
        },
        "id": "H6KFDkbjQisf",
        "outputId": "bff0ea98-7c9e-4202-f72e-7d686bc61093"
      },
      "source": [
        "## Alaska\n",
        "## https://www.elections.alaska.gov/statistics/2021/AUG/VOTERS%20BY%20PARTY%20AND%20PRECINCT.htm\n",
        "\n",
        "cursor.execute(\"DELETE FROM precinct WHERE STATE = 'AK'\")\n",
        "conn.commit()\n",
        "\n",
        "ak_url = 'https://raw.githubusercontent.com/Sartire/gerrymander/main/State_Data/ak/ak.insert.sql'\n",
        "\n",
        "## GET contents of the script from a github url \n",
        "dat = gitread.request(\"GET\", ak_url)\n",
        "\n",
        "## INSERT Data using statements from the github insert script\n",
        "cursor.executescript(dat.data.decode(\"utf-8\"))\n",
        "conn.commit()\n",
        "\n",
        "## Quick verification that data was loaded for this state\n",
        "cursor.execute(\"SELECT count(*) from precinct\")\n",
        "verify = cursor.fetchone()[0]\n",
        "\n",
        "cursor.execute(\"SELECT sum(voters), party from precinct where state = 'AK' group by party order by 1 DESC\")\n",
        "print(verify, cursor.fetchall())\n",
        "\n",
        "cursor.execute(\"SELECT * from precinct where state = 'AK' and precinct='36-690'\" )\n",
        "cursor.fetchall()\n"
      ],
      "execution_count": null,
      "outputs": [
        {
          "output_type": "stream",
          "text": [
            "57500 [(352988, 'OTH'), (144186, 'REP'), (78984, 'DEM'), (18923, 'AKI')]\n"
          ],
          "name": "stdout"
        },
        {
          "output_type": "execute_result",
          "data": {
            "text/plain": [
              "[('AK', '36-690', '36', 'AKI', 65),\n",
              " ('AK', '36-690', '36', 'DEM', 154),\n",
              " ('AK', '36-690', '36', 'REP', 544),\n",
              " ('AK', '36-690', '36', 'OTH', 1198)]"
            ]
          },
          "metadata": {
            "tags": []
          },
          "execution_count": 73
        }
      ]
    },
    {
      "cell_type": "code",
      "metadata": {
        "colab": {
          "base_uri": "https://localhost:8080/"
        },
        "id": "mZTcurdqkWZe",
        "outputId": "b07b76d6-cf7f-4c93-b4dd-7d8abb5bb35f"
      },
      "source": [
        "#Alaska\n",
        "\n",
        "sql = '''\n",
        "SELECT * from for_algo where state = 'AK'\n",
        "'''\n",
        "Alaska = pd.read_sql_query(sql, conn)\n",
        "\n",
        "#Some Presincts have only 1 or 2 voters. Lets look at Prescincts that have more than 100 total DEM/REP Voters\n",
        "Alaska = Alaska[(Alaska[\"Total_Votes\"] > 100)]\n",
        "Alaska.sort_values(by=['Total_Votes'], inplace=True)\n",
        "\n",
        "Alaska = Alaska.head(6)\n",
        "\n",
        "#Need an empty row in the 0th index\n",
        "empty_df = pd.DataFrame([[np.nan] * len(Alaska.columns)], columns=Alaska.columns)\n",
        "Alaska = empty_df.append(Alaska, ignore_index=True)\n",
        "Alaska = Alaska.reset_index(drop=True)\n",
        "\n",
        "\n",
        "if GerryManderingIdentifier(Alaska):\n",
        "  print(\"GerryMandering Possible In Alaska District\")\n",
        "else:\n",
        "  print(\"GerryMandering Not Possible In Alaska District\")\n"
      ],
      "execution_count": null,
      "outputs": [
        {
          "output_type": "stream",
          "text": [
            "25 % Done\n",
            "50 % Done\n",
            "75 % Done\n",
            "final J 6\n",
            "final K 3\n",
            "final X 156\n",
            "final Y 161\n",
            "GerryMandering Possible In Alaska District\n"
          ],
          "name": "stdout"
        }
      ]
    },
    {
      "cell_type": "markdown",
      "metadata": {
        "id": "_jC5febKpP64"
      },
      "source": [
        "###North Carolina\n",
        "The North Carolina voter data was found through a Kaggle database and dates from the end of February 2020. While more recent data can be acquired through the NC Voter Board website as shown in the description of the Kaggle repository, it appears that data from 2021 does not include the precinct. For this reason, we stuck with the 2020 data from Kaggle.\n",
        "\n",
        "[North Carolina Voter Information](https://www.kaggle.com/jerimee/north-carolina-voter-file)"
      ]
    },
    {
      "cell_type": "code",
      "metadata": {
        "colab": {
          "base_uri": "https://localhost:8080/"
        },
        "id": "dWTHP9yWHPIW",
        "outputId": "13adb569-14d7-47b2-a67f-70b432b28d95"
      },
      "source": [
        "## North Carolina\n",
        "\n",
        "cursor.execute(\"DELETE FROM precinct WHERE STATE = 'NC'\")\n",
        "conn.commit()\n",
        "\n",
        "nc_url = 'https://raw.githubusercontent.com/Sartire/gerrymander/main/State_Data/nc/ncinsert.sql'\n",
        "\n",
        "## GET contents of the script from a github url \n",
        "dat = gitread.request(\"GET\", nc_url)\n",
        "\n",
        "## INSERT Data using statements from the github insert script\n",
        "cursor.executescript(dat.data.decode(\"utf-8\"))\n",
        "conn.commit()\n",
        "\n",
        "## Quick verification that data was loaded for this state\n",
        "cursor.execute(\"SELECT count(*) from precinct\")\n",
        "verify = cursor.fetchone()[0]\n",
        "\n",
        "cursor.execute(\"SELECT sum(voters), precinct from precinct where state = 'NC' group by precinct order by 1 DESC\")\n",
        "print(cursor.fetchall())\n",
        "\n"
      ],
      "execution_count": null,
      "outputs": [
        {
          "output_type": "stream",
          "text": [
            "[(30003, '11.0'), (28750, '02'), (25509, '15.0'), (25010, '04'), (24789, '13.0'), (24032, '12.0'), (23639, '9.0'), (23262, '14.0'), (22525, '4.0'), (20931, '3.0'), (20215, '8.0'), (19938, '11'), (19535, '2.0'), (19143, '7.0'), (18042, '5.0'), (17422, '23'), (17393, '1.0'), (17138, '15'), (17087, '22.0'), (17067, '05'), (17040, '19.0'), (16835, '10.0'), (16639, '07'), (16590, '16.0'), (16582, '13'), (16551, '03'), (16512, '16'), (16326, '6.0'), (15980, '17.0'), (15793, '14'), (14697, '19'), (14566, '18.0'), (14549, 'PR07'), (14118, '08'), (14100, '21'), (13784, '27.0'), (13663, '17'), (13573, '24.0'), (13503, '20.0'), (13320, '12'), (13244, '01'), (13233, '23.0'), (13121, '31.0'), (12938, '20'), (12212, '28.0'), (12126, '26.0'), (11712, '22'), (11643, '44'), (11430, '29.0'), (11382, '04A'), (11358, '212.0'), (11344, '32.0'), (11189, '30.0'), (11167, '33.0'), (11035, '201.0'), (10905, '21.0'), (10624, 'PR01'), (10533, '122.0'), (10471, '03-00'), (10410, '30'), (10391, '18'), (10312, '34.0'), (10267, '09'), (10215, '148.0'), (10194, '33'), (10119, '133.0'), (9979, '25.0'), (9979, '28'), (9723, '38'), (9605, '02-02'), (9580, '11-01'), (9580, '12-05'), (9525, 'PR34'), (9497, 'EN03'), (9462, '229.0'), (9420, '04-13'), (9246, 'PR29B'), (9016, 'PR24'), (8999, '243.0'), (8999, '43.0'), (8954, '145.0'), (8921, 'PR08'), (8904, '05A'), (8891, '211.0'), (8869, 'DV1-B'), (8774, 'PR28'), (8630, 'GR'), (8611, '10'), (8565, '230.0'), (8522, '30-1'), (8495, '35.3'), (8483, '02-03'), (8296, 'DV1-A'), (8272, '54'), (8260, 'PR33'), (8218, '29'), (8178, 'AR'), (8124, 'PR32'), (8108, '41.0'), (8043, '06'), (8001, '202.0'), (7970, 'CC3'), (7923, 'SM'), (7897, '24'), (7832, 'MH'), (7697, 'DR'), (7668, '40.0'), (7636, '42.0'), (7631, '32'), (7617, '25'), (7577, '78'), (7537, '10-04'), (7530, 'MCH110'), (7506, 'CC'), (7504, '206.0'), (7488, 'H11'), (7374, 'UG'), (7352, '39.0'), (7297, '241.0'), (7274, 'CH'), (7211, '27'), (7194, '01-23'), (7182, 'PR'), (7173, '82.0'), (7022, '207.0'), (6988, '203.0'), (6975, '11-02'), (6959, '12-04'), (6951, '38.0'), (6935, '05-05'), (6920, '36'), (6903, 'TR'), (6902, '12-09'), (6862, '36.0'), (6839, '81.0'), (6784, '10S'), (6774, '45'), (6716, '46.0'), (6713, '42'), (6703, '72.0'), (6691, '52'), (6659, '06-09'), (6656, '05-07'), (6647, '19-12'), (6634, 'WH'), (6614, '04-12'), (6583, '01-11'), (6564, 'PR25'), (6548, '20-14'), (6545, '14-02'), (6523, 'FT'), (6514, '135.0'), (6501, 'PIT113'), (6486, '02-09'), (6473, '102.0'), (6447, '30-2'), (6438, '134.0'), (6438, '50'), (6438, 'PR29'), (6432, '31'), (6427, 'NB'), (6414, 'MS'), (6385, 'NM'), (6374, '223.1'), (6356, 'B2'), (6329, 'UNC'), (6311, '227.0'), (6307, '40'), (6291, '17-04'), (6283, 'H08'), (6255, 'PR16'), (6250, '222.0'), (6243, '91.0'), (6237, '19-19'), (6229, '41'), (6225, '34'), (6206, '39'), (6197, '02-08'), (6180, 'SE'), (6166, '43'), (6163, '04B2'), (6141, 'PR35'), (6122, 'BM08'), (6121, 'M04'), (6093, 'P08A'), (6090, '01-04'), (6074, '06-06'), (6033, 'H03'), (6021, '17-03'), (6010, '142.0'), (5987, 'EF'), (5949, 'CC4'), (5936, '12-01'), (5932, '74.0'), (5925, 'B1'), (5918, '101.0'), (5860, 'A2'), (5830, 'PRTA'), (5800, 'M02'), (5785, '13-10'), (5764, '37'), (5699, '44.0'), (5698, 'S C'), (5694, 'H13'), (5689, 'PR30'), (5686, '02-06'), (5684, 'H04'), (5676, 'WADES'), (5670, '03S'), (5662, 'A1'), (5661, '12-08'), (5656, 'W1'), (5652, '63.0'), (5650, 'CC1'), (5645, '240.0'), (5644, '137.0'), (5608, '210.0'), (5589, '02-01'), (5572, 'WS'), (5551, '132.0'), (5518, 'NWM117'), (5502, '10B'), (5447, '89.0'), (5437, '37.0'), (5416, '04-09'), (5416, 'PR22'), (5415, 'PR31B'), (5404, 'PR26'), (5403, '01-16'), (5392, 'SW'), (5377, 'CC2'), (5348, '143.0'), (5342, '15-02'), (5329, '53.0'), (5327, '019'), (5316, 'H10'), (5312, 'PR29A'), (5295, '12-06'), (5288, '140.0'), (5256, '18-01'), (5249, '71.0'), (5227, '54.0'), (5222, 'PR20'), (5213, 'H05'), (5207, 'CUL'), (5205, '46'), (5191, 'MY'), (5175, '08-03'), (5148, 'H06'), (5140, '127'), (5120, '035'), (5111, '51'), (5099, '51.0'), (5083, 'H02'), (5066, 'P19A'), (5043, 'FP08'), (5038, 'WP32'), (5036, '19-17'), (5028, '028A'), (5013, '35.0'), (5006, 'PR13'), (4999, '07-10'), (4997, '05-06'), (4993, 'WILT'), (4991, '18-05'), (4978, '83.0'), (4947, '103.0'), (4942, '65.0'), (4941, '03A'), (4941, '112.0'), (4937, '13-01'), (4933, '123.0'), (4930, '149.0'), (4923, 'KDH'), (4900, '55.0'), (4891, '037A'), (4881, 'SDRI'), (4873, '20-06A'), (4870, '02-05'), (4854, 'RL09'), (4849, '45.0'), (4839, '1512A'), (4820, '44.1'), (4817, 'PR21'), (4808, 'CX'), (4808, 'S S'), (4806, '131.0'), (4800, 'FP07'), (4800, 'PR09'), (4784, 'PR14'), (4763, '34-2'), (4762, 'PR23'), (4741, 'AW'), (4741, 'FP04'), (4736, '20-08'), (4733, '204.1'), (4732, '84'), (4729, '2'), (4726, '10-00'), (4723, '18-02'), (4720, 'RN'), (4716, '232.0'), (4710, '10A'), (4697, '15-03'), (4688, '127.0'), (4684, 'DV2-B'), (4681, '01-07'), (4675, '17-13'), (4671, '3'), (4669, '020A'), (4665, '016'), (4656, '16-10'), (4655, '16-02'), (4655, '18.2'), (4631, 'NE22B'), (4601, 'EAST'), (4574, 'SDC'), (4558, '19-09'), (4557, '20-11'), (4550, '04-01'), (4547, 'C2'), (4543, '19-21'), (4538, '028D'), (4537, 'BE'), (4534, '507.0'), (4526, 'RE'), (4514, '12-02'), (4509, 'RC2'), (4500, 'FLRI'), (4467, 'SW19'), (4466, '104.0'), (4463, '04-03'), (4456, '80A'), (4451, '92.0'), (4443, 'PR12A'), (4433, 'W15'), (4427, '73.0'), (4426, '208.0'), (4426, '216.0'), (4423, '151.0'), (4415, 'PR12B'), (4406, '236.0'), (4399, '20-12'), (4396, '01-02'), (4385, '111.0'), (4383, '01-28'), (4382, '231.0'), (4381, 'CAR'), (4377, '020B'), (4371, 'PR11B'), (4360, 'TB'), (4349, '1403B'), (4318, '209.0'), (4308, '017B'), (4308, 'AL51'), (4298, '13-09'), (4289, 'BR'), (4287, 'SB'), (4285, '0601'), (4285, 'M03'), (4283, 'C1'), (4280, 'BC21'), (4279, 'WN04'), (4277, '08-08'), (4273, '17-11'), (4269, '61.0'), (4260, 'G10A'), (4259, '029A'), (4256, '213.0'), (4255, '26'), (4253, 'JA01'), (4226, 'MATO'), (4224, 'H12'), (4221, 'PRO'), (4217, 'SF18'), (4214, 'LC'), (4213, 'BA'), (4209, 'CR07'), (4205, '221.0'), (4186, '68.0'), (4185, 'HM05'), (4180, '01-08'), (4171, '15-01'), (4160, 'CD'), (4146, '75'), (4126, '04-11'), (4123, 'P15'), (4122, 'CF1'), (4108, '233.0'), (4082, 'CRDM'), (4076, '141.0'), (4076, 'RC'), (4071, '01-10'), (4070, '015'), (4069, '05-03'), (4060, '205.0'), (4051, '18-08'), (4051, '20-17'), (4048, '05-01'), (4026, '19-07'), (4025, '01-40'), (4024, 'SLS'), (4014, '030'), (4006, '18-04'), (4000, 'MTEN'), (3998, '69.0'), (3998, 'GB'), (3986, 'N6'), (3982, 'MON3'), (3979, 'GB12'), (3969, '20-05'), (3968, 'WEST'), (3963, 'SL78-3'), (3935, '06-04'), (3935, 'W21'), (3928, 'KM N'), (3926, '041'), (3922, '18-06'), (3919, '01-22'), (3918, '01-21'), (3917, '07-04'), (3907, '20-15'), (3904, 'NH'), (3902, 'N4'), (3885, 'S 4A'), (3879, '53-2'), (3877, '08-11'), (3868, '1504B'), (3866, 'NORTH'), (3864, '237.0'), (3861, 'MC'), (3848, 'G6A'), (3847, '75.0'), (3843, '121.0'), (3841, 'UT14'), (3838, 'PRWM'), (3830, '32A'), (3828, 'LT18'), (3827, '16-09'), (3826, '08-02'), (3825, 'G2A'), (3821, '09S'), (3819, '17-05'), (3812, '105.0'), (3812, 'LW31'), (3810, '028B'), (3802, 'P01A'), (3796, 'WALL'), (3795, 'FP06'), (3795, 'STOK'), (3792, 'PR23A'), (3789, '10-02'), (3758, '1509'), (3752, '146.0'), (3751, 'P17A'), (3749, '228.0'), (3738, 'W30'), (3735, '708.0'), (3722, '602.0'), (3717, '68.1'), (3711, 'WC'), (3710, '128'), (3710, '48'), (3710, 'DV2-A'), (3697, 'G9B-2'), (3691, '064'), (3688, 'EUR-WP'), (3687, '04-08'), (3685, 'P07'), (3683, 'PHC'), (3680, '1507'), (3679, 'FL'), (3667, 'G9B-1'), (3665, '20-03'), (3660, '62.0'), (3654, '20-01'), (3648, '17-09'), (3643, '01-14'), (3643, 'FS16'), (3638, '60'), (3629, 'FR1'), (3627, 'G2B'), (3621, 'LR63'), (3618, '47.1'), (3610, 'AE'), (3604, '0101'), (3600, '040'), (3595, 'W31'), (3593, 'LJ'), (3586, '66.0'), (3584, 'P15A'), (3579, '17-07'), (3577, 'D1'), (3573, 'PR37'), (3569, '14A'), (3562, '09-02'), (3560, 'KM S'), (3556, '04-05'), (3553, 'FC'), (3550, 'CF01'), (3544, 'ES'), (3541, 'IH'), (3536, '20-06B'), (3532, '06-10'), (3527, '07-07'), (3526, '0301'), (3520, 'HU'), (3519, '20-04'), (3519, 'P22A'), (3518, '20-16'), (3516, 'VE14'), (3512, '01-44'), (3510, '07-06'), (3508, '49.1'), (3505, '19A'), (3484, '06A'), (3484, 'ESC114'), (3484, 'OR1'), (3484, 'TYHO'), (3480, 'D2'), (3480, 'PR31'), (3479, '01-31'), (3479, '1201'), (3476, 'W25'), (3469, 'PNTH'), (3469, 'SP15'), (3467, 'ST1'), (3461, 'JEF3'), (3451, 'BC'), (3442, '08-00'), (3441, '59.1'), (3433, '139.1'), (3432, 'E2'), (3429, '226.0'), (3427, 'TT'), (3426, '05-08'), (3423, 'AS'), (3423, 'G2D'), (3423, 'PR18'), (3423, 'SC13'), (3422, 'EC'), (3414, '40.2'), (3410, 'SOUTH'), (3409, '52.0'), (3406, '028C'), (3404, 'RCTL'), (3403, '71.1'), (3403, 'G1B'), (3401, 'SSP'), (3400, '1102B'), (3387, 'PROL'), (3384, '06-07'), (3382, '45.1'), (3377, '06B'), (3373, 'MA'), (3369, '18-07'), (3368, '007'), (3365, '107.1'), (3355, '038A'), (3350, '144.0'), (3332, '119'), (3325, 'WAB'), (3322, '031'), (3318, '215.0'), (3317, 'NIX'), (3304, 'SF4'), (3302, '48.1'), (3296, '9.1'), (3290, '113.0'), (3288, '1201.0'), (3288, 'SCRK'), (3287, 'PRWJ'), (3285, 'W29'), (3283, '005'), (3282, '52.1'), (3281, '12-13'), (3280, '19-20'), (3277, '54.2'), (3275, '01-49'), (3275, 'ED-1'), (3275, 'EMIS'), (3268, 'ST6'), (3265, 'FEN1'), (3261, '147.0'), (3260, '09-03'), (3258, 'T1T4T5'), (3255, 'PRTO'), (3249, '19-11'), (3241, 'SJ'), (3236, 'G10C'), (3236, 'WD'), (3233, '20-10'), (3230, '1511A'), (3228, '19-18'), (3226, 'PB'), (3225, 'IR'), (3224, 'CHOCO'), (3222, 'W'), (3214, '16-07'), (3201, '1511B'), (3200, '06-05'), (3198, '74'), (3188, '19-05'), (3188, 'OG'), (3187, '07-09'), (3187, 'TL06'), (3165, '129'), (3158, 'LI'), (3154, 'NB35'), (3150, 'TA37'), (3146, 'NE22A'), (3142, '17-12'), (3121, 'P20A'), (3120, 'KITT'), (3119, 'RC1'), (3118, '234.0'), (3116, '235.0'), (3111, '67.0'), (3109, 'MARS H'), (3108, 'G21'), (3107, '214.0'), (3101, '138.0'), (3097, '1'), (3083, 'CC27'), (3082, 'SOSH'), (3077, 'COL'), (3073, '02-07'), (3073, '150.0'), (3072, 'H25'), (3071, '10N'), (3071, 'AN'), (3066, '16-11'), (3062, 'RIPPY'), (3062, 'SO'), (3057, 'NLIB'), (3056, '13-11'), (3052, '115A'), (3051, 'P14'), (3050, '605.0'), (3050, '86A'), (3050, 'NCGR1'), (3048, '80.0'), (3048, 'N3N5'), (3040, '034'), (3040, 'SF1'), (3037, '19-03'), (3037, 'G11B'), (3033, 'G3A-1'), (3032, 'G8A'), (3031, '808.0'), (3025, 'NPT1'), (3012, 'W2'), (3009, 'DN29'), (3007, '220.0'), (3003, 'W16'), (2996, '239.0'), (2985, '032'), (2979, '1403A1'), (2978, '103'), (2974, '53-1'), (2974, 'AT'), (2956, 'H01'), (2955, '242.0'), (2955, 'BFT2'), (2953, 'PR23B'), (2951, '126.0'), (2950, 'WILD'), (2938, 'CO'), (2935, 'FR'), (2929, 'HC'), (2925, '38.3'), (2925, 'PDN'), (2920, '64'), (2917, '01-50'), (2914, '13-06'), (2910, '19-14'), (2908, '01-46'), (2897, '1102A'), (2888, '1403A2'), (2888, 'MT19'), (2885, '04-20'), (2883, '19-15'), (2881, 'WW1'), (2880, 'HC33'), (2876, 'ST3'), (2875, 'T1'), (2873, '01 BUR'), (2872, '906.0'), (2871, '008'), (2871, '26A'), (2869, '01-26'), (2869, '1513A'), (2867, '04-06'), (2867, 'OAKGRV'), (2861, '0051'), (2858, 'MHD3'), (2852, 'JC'), (2850, 'P23A'), (2848, '09A'), (2847, 'MON2A'), (2842, '017A'), (2836, '12-07'), (2833, '2530.0'), (2829, '47.0'), (2827, 'M1'), (2826, 'CCCP'), (2825, 'PHA1'), (2823, '35'), (2822, 'QUA'), (2816, 'LI65'), (2810, 'HU20'), (2805, '55.1'), (2800, 'LK-2'), (2796, 'PHB1'), (2795, '2.1'), (2794, 'PR10A'), (2790, 'CB'), (2789, '709.0'), (2785, 'SN'), (2783, '34-1'), (2782, 'ST36'), (2780, '65.1'), (2779, '13-08'), (2778, '69.1'), (2778, 'WEST M'), (2776, 'CF11'), (2773, '41.1'), (2770, 'W24'), (2768, 'ST5'), (2765, '30.3'), (2764, 'CF05'), (2757, '01-20'), (2757, '04-07'), (2755, '70.1'), (2753, 'G26'), (2747, '58'), (2747, 'DA'), (2744, 'CC21'), (2741, '114.0'), (2740, '16-01'), (2739, 'ST2'), (2737, 'CC26'), (2732, '01-42'), (2732, '53.1'), (2732, 'W27'), (2730, '128.0'), (2728, '04-10'), (2726, 'P24A'), (2723, '100.0'), (2720, '76.0'), (2717, 'KTHK'), (2711, 'G27'), (2711, 'PA'), (2710, 'PR27B'), (2706, '238.1'), (2703, '013'), (2703, 'PR11A'), (2702, '20-09'), (2702, 'SB02'), (2697, '018'), (2697, 'P11A'), (2686, '02-25'), (2684, 'AH49'), (2682, '08-10'), (2681, '04-18'), (2681, 'M06'), (2679, 'JEF1'), (2673, '506.0'), (2672, 'G50'), (2671, 'BOGU'), (2663, 'CG3B'), (2663, 'PR31A'), (2663, 'TR123'), (2660, '01-06'), (2660, 'ST4'), (2659, 'W28'), (2657, 'SH-B'), (2654, 'WARS'), (2652, '12N'), (2651, '701.0'), (2648, '16-04'), (2645, '224.0'), (2645, 'WACO'), (2639, 'G48'), (2635, '76'), (2634, '19-16'), (2629, 'CL57-1'), (2618, '16.2'), (2617, 'FBSH'), (2615, 'SF3'), (2613, 'P26B'), (2611, '10-03'), (2610, 'P06A'), (2609, '217.0'), (2609, '29.2'), (2607, '1001'), (2604, '118.0'), (2603, '0013'), (2603, '901.0'), (2603, 'G09'), (2601, '908.0'), (2601, 'GROVER'), (2600, 'G5B-1'), (2595, '0024'), (2592, 'KENA'), (2591, '011'), (2591, '63'), (2590, 'SH-A'), (2587, '03N'), (2584, '012'), (2582, '01-36'), (2581, '0001'), (2580, '57.1'), (2580, 'PR36'), (2579, '109.0'), (2579, '124'), (2579, 'CP'), (2578, '06S'), (2577, 'N'), (2576, '08-07'), (2573, 'HF'), (2572, '07-12'), (2572, '1920.0'), (2570, 'P05A'), (2566, 'CL57-2'), (2566, 'ROSE'), (2560, '87.0'), (2558, 'JAM1'), (2551, '17-01'), (2539, 'CF06'), (2538, '601.0'), (2531, 'G45'), (2529, '1203.0'), (2525, '0011'), (2523, '01-39'), (2521, 'EO61-1'), (2520, 'NS'), (2519, 'DW28'), (2518, 'CF02'), (2517, 'P21A'), (2515, '01-18'), (2498, '06-89'), (2495, '218.0'), (2493, '809.0'), (2490, 'CW'), (2490, 'PELH'), (2485, '72'), (2477, 'G8D'), (2472, 'HS'), (2465, 'BNVL'), (2460, 'MAR 1'), (2457, 'ED'), (2454, '1503'), (2453, 'MON1'), (2450, 'G46'), (2447, 'CL10'), (2447, 'MHD4'), (2439, 'H28'), (2439, 'NDRI'), (2438, '21.1'), (2437, 'JEF2'), (2434, 'BTNR'), (2432, '16-05'), (2432, 'G10'), (2430, 'NPT2'), (2428, '022'), (2424, 'LTR'), (2423, 'BETHEL'), (2419, '04-15'), (2418, '1513B'), (2415, '08N'), (2415, '1505A'), (2413, 'BEUL'), (2413, 'NMAD'), (2412, '136.0'), (2404, '5.1'), (2403, '0200A'), (2402, '03W'), (2400, '04-02'), (2400, '82'), (2397, 'P501'), (2394, 'CC14'), (2388, 'G2C-1'), (2387, 'OR2'), (2385, '1505B'), (2383, 'NKNB'), (2382, '801.0'), (2380, '39.3'), (2379, '88.0'), (2372, 'G10B'), (2370, 'CH-B'), (2368, 'EAB'), (2368, 'MHD2'), (2367, '05-00'), (2367, 'T2T3'), (2366, 'G53'), (2365, 'EV'), (2364, '125'), (2363, 'MR02'), (2361, 'NC'), (2361, 'RM'), (2358, '30.2'), (2356, '1510B'), (2355, 'PG2'), (2353, 'P18A'), (2352, 'CLEA'), (2350, 'MB62'), (2347, 'G9A'), (2346, 'JAM4'), (2343, '01-43'), (2342, 'NGHD'), (2341, '01-29'), (2341, 'OW'), (2329, 'LAKE'), (2325, 'MIDD'), (2321, 'G43'), (2320, '13-07'), (2319, '219.0'), (2317, '85.0'), (2316, '02-04'), (2316, '1507B'), (2316, '16A'), (2314, '77.0'), (2308, '85'), (2308, 'SH77'), (2307, 'CG1'), (2306, 'EA1'), (2303, 'CS'), (2297, 'CC15'), (2292, '09-00'), (2292, 'NCLAY1'), (2292, 'S1S2'), (2289, 'LB34'), (2288, 'DV08'), (2285, 'H29B'), (2284, '15-04'), (2282, 'PRBL'), (2277, 'CL08'), (2277, 'LB'), (2270, 'SMAD'), (2266, '107'), (2265, 'WHCH'), (2264, '18-03'), (2263, '01-35'), (2261, '038B'), (2259, 'K4'), (2257, 'PRWL'), (2256, 'BD'), (2255, '88'), (2255, 'G2C-2'), (2254, 'G20'), (2250, 'DM'), (2247, 'IS23'), (2246, '8.3'), (2245, '225.0'), (2245, 'G64'), (2245, 'P'), (2244, 'P202'), (2244, 'SHANGI'), (2243, '8.2'), (2243, 'CR'), (2241, '55-49'), (2241, 'G2E-2'), (2240, 'HV-2'), (2240, 'SH'), (2238, '126'), (2237, '49.0'), (2235, 'G32'), (2233, '124.0'), (2233, 'RR 9'), (2232, '021'), (2232, '19-13'), (2232, 'HV-3'), (2231, '62.1'), (2226, '501.0'), (2226, 'HR17'), (2221, '401.0'), (2220, 'G70'), (2219, 'RR 10'), (2217, '28.1'), (2217, '61.1'), (2210, '67.1'), (2208, '01-32'), (2207, '64.0'), (2206, '24.1'), (2202, 'E1'), (2201, 'GC09'), (2201, 'NCGR2'), (2198, 'RR 11'), (2197, 'PLVW'), (2193, '805.0'), (2193, 'G47'), (2191, '09-01'), (2190, '01-15'), (2189, '404.0'), (2189, 'GIB'), (2188, 'HV-1'), (2186, '033'), (2185, 'G68'), (2181, 'G8B'), (2179, '200.0'), (2177, '22.2'), (2173, '039'), (2173, 'BEECH'), (2172, 'CAM'), (2172, 'NEBO'), (2167, '06-08'), (2164, '08 CRA'), (2163, 'G72'), (2161, 'MHD1'), (2154, 'G37'), (2153, 'LATT'), (2152, '98.0'), (2151, '029C'), (2151, '25.1'), (2148, 'G38'), (2147, 'S 5'), (2143, 'PR10B'), (2142, '70.0'), (2142, 'ENO'), (2140, '01-48'), (2139, '1512B'), (2132, '78.1'), (2132, 'G5A-1'), (2131, '120.0'), (2130, '07-13'), (2130, 'CH-A'), (2128, 'GL'), (2126, '01-47'), (2126, '58.0'), (2125, '607.0'), (2125, 'G3A-2'), (2125, 'NSP'), (2124, 'PRWN'), (2123, 'RG'), (2122, 'HN14'), (2118, '01-38'), (2118, 'G66'), (2118, 'H24'), (2111, '024'), (2110, '57.0'), (2108, 'PC22'), (2107, '03C'), (2107, '13.1'), (2103, 'CC17'), (2103, 'MTTZ'), (2099, 'G65'), (2099, 'W26'), (2095, '17-06'), (2092, '01-41'), (2091, '08-05'), (2089, '12.1'), (2088, '1510A'), (2087, 'H29A'), (2080, 'WND'), (2079, '705.0'), (2075, '0070'), (2075, '1504A'), (2075, '903.0'), (2075, 'W03'), (2074, 'CG2'), (2070, '405.0'), (2069, '063'), (2068, 'GASTON'), (2067, '01-27'), (2067, '08-06'), (2067, 'G69'), (2061, '006'), (2061, '0800A'), (2061, 'PBF'), (2058, '13-05'), (2058, 'FR2'), (2056, 'W17'), (2055, '86.0'), (2054, 'CL-S'), (2052, 'EH'), (2052, 'PHB2'), (2050, 'MING'), (2047, 'E'), (2045, 'P19'), (2045, 'T2'), (2043, 'G71'), (2041, '62'), (2039, '04-16'), (2033, 'P04'), (2030, '108.0'), (2030, 'AS25'), (2020, '3.1'), (2020, 'TCRK'), (2019, '01-34'), (2019, 'PRCR'), (2013, '09N'), (2009, 'PRGA'), (2004, '15.1'), (2002, 'G5B-2'), (2001, '14.2'), (1998, '84.0'), (1997, '13-02'), (1995, 'OB21'), (1994, '904.0'), (1994, 'P3'), (1990, '96.0'), (1989, 'G55'), (1987, '6'), (1987, '905.0'), (1983, 'SUM2'), (1979, 'SUM1'), (1974, '99.0'), (1972, 'CL07'), (1971, 'G54'), (1971, 'P02A'), (1964, 'POLKVL'), (1964, 'WKWD'), (1963, 'LILE'), (1960, 'KM'), (1959, 'WB'), (1956, 'G08'), (1947, '117.0'), (1947, 'FR5A'), (1941, '01-03'), (1938, 'M07'), (1937, 'BC2'), (1936, '0200B'), (1936, 'N1'), (1935, '58.1'), (1934, 'P16A'), (1933, '1508A'), (1931, 'MURS'), (1930, 'G8C'), (1929, 'G5A-2'), (1928, '01-01'), (1928, '48.0'), (1928, 'EBND'), (1926, '1506'), (1922, 'WS-1'), (1918, '023'), (1918, '08-09'), (1918, 'G44'), (1916, '70'), (1916, 'CLR4'), (1916, 'NEW HO'), (1915, 'CORI'), (1913, 'PHA2'), (1909, 'WEL 3'), (1905, '0701'), (1902, 'C'), (1902, 'ENF1'), (1900, 'PV'), (1898, '56.2'), (1893, '06N'), (1891, 'CC33'), (1889, 'PCHT'), (1886, 'BC1'), (1885, '12-03'), (1883, '06E'), (1882, '042'), (1882, 'WASH4'), (1881, 'CC01'), (1880, 'N2'), (1879, '42.1'), (1879, 'DYSART'), (1875, '118'), (1872, '01-19'), (1863, 'GILEA'), (1860, 'HOL'), (1857, '79.0'), (1855, 'STON'), (1853, 'H27-B'), (1851, 'AC'), (1847, 'YANC'), (1846, '5AP'), (1846, 'H27-A'), (1842, 'SLIB'), (1841, '0022'), (1840, '32.1'), (1838, 'RF'), (1834, '06-00'), (1832, '0038'), (1832, 'CC29'), (1829, 'G5C'), (1828, '1.1'), (1826, '036'), (1824, 'NW'), (1821, 'G07'), (1820, 'TH'), (1819, 'RRC'), (1810, '12-12'), (1810, 'G74'), (1809, '04-17'), (1808, '01-37'), (1807, 'SCLAY'), (1807, 'VR15'), (1804, 'SA'), (1803, 'CC34'), (1803, 'PRSP'), (1803, 'V'), (1801, 'G41B'), (1801, 'RVRD'), (1799, 'PR38'), (1798, '010'), (1797, '0053'), (1797, '01-12'), (1797, 'G2E-1'), (1795, '94.0'), (1785, 'ALVI'), (1785, 'G1A'), (1784, '07-05'), (1782, 'BEN'), (1780, '0048'), (1779, 'H26'), (1778, 'FEN2'), (1776, '04-21'), (1776, '2OT'), (1775, '603.0'), (1774, 'JEF4'), (1773, '93.0'), (1771, '68'), (1771, 'BS26'), (1771, 'SUM4'), (1770, '807.0'), (1766, 'JAM3'), (1766, 'VSS'), (1763, 'PP'), (1761, '112'), (1760, 'WEM'), (1759, '002'), (1758, '04-19'), (1757, 'OTBEG'), (1754, 'SH12'), (1753, '0014'), (1752, '113A'), (1751, '902.0'), (1750, 'CL-N'), (1749, '026'), (1749, '60.0'), (1746, '95.0'), (1745, 'G67'), (1744, '025'), (1744, '0800B'), (1742, 'B3'), (1741, '1001.0'), (1737, 'MURN'), (1734, '1618.0'), (1734, '51.2'), (1731, 'K6'), (1730, 'W13'), (1728, '33.3'), (1726, 'WEB'), (1724, 'PLEASA'), (1723, '01-45'), (1722, 'LP'), (1718, '0034'), (1718, 'G61'), (1717, '806.0'), (1716, '50.0'), (1716, '64.1'), (1714, '304.0'), (1713, '12W'), (1711, 'HIWA'), (1709, 'BCRK'), (1709, 'JAM2'), (1709, 'MILT'), (1707, 'EO61-2'), (1706, '08-04'), (1706, 'CC16'), (1706, 'P23'), (1704, 'CLNE'), (1703, 'ST'), (1702, 'CC13'), (1697, '014'), (1696, 'W08'), (1695, 'K9'), (1694, '704.0'), (1694, 'LRSL'), (1693, 'G03'), (1693, 'W12'), (1692, '0047-A'), (1692, '403.0'), (1691, 'NE'), (1688, '36.1'), (1687, '5'), (1686, '26.1'), (1685, 'EAOX'), (1685, 'GAPL'), (1685, 'NEW'), (1683, 'G36'), (1676, '907.0'), (1676, 'LOCU'), (1670, 'G34'), (1669, '04-04'), (1665, 'CAS'), (1662, '04-14'), (1662, 'NR02'), (1657, '07-01'), (1657, 'FP03'), (1652, '0031'), (1650, '111'), (1650, '803.0'), (1646, 'H15'), (1645, 'CC05'), (1644, 'G22'), (1643, '38.2'), (1642, '07-02'), (1642, 'DCRK'), (1642, 'G52'), (1639, '7.1'), (1639, 'SWST'), (1637, 'P05'), (1636, '0066'), (1635, 'HO'), (1634, 'G6C'), (1633, '106.0'), (1632, 'BE-3'), (1629, '121'), (1629, 'CRDL'), (1627, '09 SOU'), (1627, 'M2'), (1626, 'P10A'), (1626, 'PR27A'), (1624, '01-33'), (1624, 'CCREEK'), (1624, 'P24'), (1622, 'SURBA'), (1621, 'EH1'), (1616, '027'), (1615, '0036'), (1615, 'CG3A'), (1613, 'MULLS'), (1611, '130.0'), (1608, 'J'), (1607, '47'), (1607, '505.0'), (1606, 'PARKVI'), (1605, 'PG1'), (1605, 'SASS'), (1603, 'RP20'), (1603, 'SF2'), (1601, '35.1'), (1598, 'CAN'), (1596, '56.0'), (1593, 'G04'), (1591, 'MON2B'), (1589, 'CU02'), (1588, '029B'), (1588, 'G57'), (1585, '05-10'), (1584, 'G17'), (1584, 'SALM'), (1583, 'NB01'), (1581, 'CLWE'), (1581, 'MT24'), (1580, 'PRWI'), (1578, 'CC31'), (1575, 'G30'), (1574, '119.0'), (1572, 'CS1'), (1569, 'G63'), (1568, '1508B'), (1565, 'NH1'), (1565, 'P03A'), (1565, 'PRWD'), (1561, 'WIHA'), (1557, '66.1'), (1556, 'G51'), (1554, '1210'), (1554, '604.0'), (1553, '90.0'), (1552, '115.0'), (1552, 'PRWP'), (1551, 'CUCL'), (1551, 'SH1'), (1549, '1202.0'), (1549, 'G25'), (1548, '07-03'), (1543, '01-13'), (1543, '55-11'), (1541, 'P04A'), (1539, 'G4C'), (1534, 'G33'), (1533, 'GLV'), (1532, '0012'), (1530, '16-03'), (1528, 'BETHWR'), (1526, 'FORT 2'), (1526, 'PR17'), (1525, '009'), (1525, 'H18'), (1525, 'MTG'), (1521, 'CC25'), (1519, 'BE56'), (1515, 'PH'), (1514, 'LM'), (1512, 'P502'), (1511, 'G60'), (1510, 'DHR'), (1507, 'WO06'), (1503, 'KFRK'), (1502, 'PRWR'), (1501, '11.1'), (1499, '12-11'), (1497, 'SL24'), (1496, 'CF19'), (1495, 'G4B'), (1494, 'WS-2'), (1493, '120'), (1492, 'G40A1'), (1491, '0039'), (1485, 'G75'), (1485, 'I'), (1483, '19.1'), (1483, '606.0'), (1482, '702.0'), (1478, 'BRAS'), (1477, 'IS20'), (1476, 'PR19'), (1476, 'SH#1'), (1475, 'GLENWD'), (1475, 'K7'), (1474, 'PRWC'), (1472, 'TC7'), (1469, '18A'), (1467, 'BEADM'), (1465, '39.2'), (1464, '17.1'), (1463, 'B4'), (1463, 'SFAL'), (1462, 'LR'), (1461, '43.2'), (1454, 'CC12'), (1454, 'G58'), (1452, 'G11'), (1451, '0040'), (1450, 'LS12'), (1448, 'MAUR'), (1447, '17-02'), (1446, 'M'), (1446, 'RGER'), (1444, 'G19'), (1442, 'WW'), (1439, '004'), (1438, '1204.0'), (1435, '001'), (1432, 'W18'), (1431, '116.0'), (1428, 'SCC'), (1427, '0021'), (1426, 'BC13'), (1425, '104'), (1424, '802.0'), (1423, 'PRWK'), (1422, 'G56'), (1419, '0015'), (1419, 'G42A'), (1412, 'FR3'), (1409, 'G29'), (1409, 'ROX4'), (1405, '037B'), (1405, 'STEL'), (1403, 'LAWNDL'), (1402, 'G1G2'), (1395, 'BE-4'), (1394, 'HE'), (1392, 'FR4'), (1392, 'OLHI'), (1391, '16-06'), (1391, 'CG'), (1390, 'EWD'), (1383, 'G16'), (1381, '003'), (1380, 'P16B'), (1376, 'H09'), (1376, 'HARR'), (1376, 'SA04'), (1374, '66'), (1371, 'ROWA'), (1371, 'WASH1'), (1370, 'CC18'), (1369, 'BELHV'), (1365, '306.0'), (1364, 'BG'), (1359, '60.4'), (1357, '0401'), (1356, '97.0'), (1355, '503.0'), (1354, 'P40'), (1351, 'BERE'), (1349, 'CG05'), (1348, 'LC09'), (1345, 'M.COVE'), (1343, 'AUTR'), (1341, '102'), (1340, 'G39'), (1339, '110.0'), (1337, 'WOLF'), (1333, 'G40B'), (1330, 'G31'), (1330, 'LN11'), (1327, 'GR06'), (1325, '4.1'), (1324, '11A'), (1324, '50.1'), (1322, 'STA'), (1321, 'WE'), (1320, 'WDPD'), (1319, 'HIAW'), (1319, 'SOOX'), (1316, 'FALSTN'), (1315, '204.0'), (1314, 'ABCH'), (1314, 'P14A'), (1311, '46.1'), (1311, 'BFT1'), (1309, 'WEL1-2'), (1308, 'NCLAY2'), (1307, 'SHIN'), (1306, '37.1'), (1305, 'H14'), (1304, 'CLSW'), (1304, 'LIT 1'), (1303, 'MRB-YO'), (1303, 'PR02'), (1302, 'ANSW'), (1300, 'G05'), (1296, 'OLDF'), (1296, 'PRWE'), (1296, 'TO'), (1295, '10.1'), (1295, 'P201'), (1294, 'LI14'), (1294, 'WBRK'), (1290, '6.1'), (1288, 'G06'), (1288, 'G23'), (1288, 'LIT 2'), (1287, 'P60'), (1286, '0003'), (1285, 'CL05'), (1285, 'PSJW3'), (1282, 'BIS'), (1279, 'G73'), (1279, 'H'), (1276, '01-30'), (1274, 'G62'), (1267, 'H21'), (1265, '08S'), (1264, 'BK'), (1262, 'HIGGIN'), (1258, '909.0'), (1258, 'HAY2'), (1257, '17-10'), (1255, 'CLEM'), (1255, 'G4A'), (1251, '0035'), (1250, '707.0'), (1249, '108'), (1248, 'JAM5'), (1245, '9'), (1244, 'P10'), (1243, 'WOEL'), (1241, '10-01'), (1241, 'CFB8'), (1239, 'ANNW'), (1237, 'ELD'), (1233, 'H23'), (1233, 'HOTH'), (1232, '305.0'), (1228, '4N'), (1227, 'G13'), (1225, '12E'), (1225, 'P06'), (1223, 'WASH2'), (1222, '129.0'), (1222, 'G15'), (1220, '502.0'), (1220, '61'), (1218, '06 JAC'), (1216, '02 CAN'), (1216, '33.2'), (1216, 'NV'), (1211, 'H07'), (1209, 'NGRV'), (1209, 'UWH'), (1208, 'G18'), (1207, '0501'), (1206, 'G59'), (1205, '31.1'), (1203, '125.0'), (1202, 'H16'), (1201, '1RB'), (1199, 'PKNL'), (1197, 'P09A'), (1196, '301.0'), (1190, '60.2'), (1185, '14.3'), (1185, '804.0'), (1183, 'LAKE G'), (1180, 'EKWD'), (1180, 'FR5B'), (1176, '59.0'), (1173, '07-11'), (1172, 'BCK'), (1172, 'PELE'), (1168, 'BURN'), (1164, 'ENF 2'), (1160, '0020'), (1160, '1101'), (1158, 'MAR 2'), (1157, '706.0'), (1156, '12-10'), (1156, 'K5'), (1156, 'RINGW'), (1155, 'MAGN'), (1154, 'G24'), (1153, 'G40A2'), (1152, '3BY'), (1151, 'CC24'), (1151, 'NBCK'), (1150, '402.0'), (1144, 'ALMOND'), (1144, 'HALL'), (1144, 'PRST'), (1143, 'H22'), (1142, 'HAL'), (1141, 'COMIPE'), (1138, '01-09'), (1133, 'CC08'), (1131, 'MARB'), (1130, 'G41A'), (1129, '01-05'), (1128, 'G02'), (1127, 'NCRK'), (1126, 'CM'), (1125, 'ALBE'), (1125, 'H19A'), (1124, 'A3'), (1124, 'CASAR'), (1124, 'G01'), (1124, 'RICH S'), (1122, 'NWASH'), (1121, 'CHAR'), (1120, '703.0'), (1118, 'FAIS'), (1113, 'CC03'), (1113, 'KEEN'), (1112, 'P30'), (1110, 'RBN'), (1108, 'G35'), (1108, 'SHCR'), (1104, 'G7A'), (1104, 'SUM3'), (1102, 'H20B'), (1101, '56'), (1101, 'MM'), (1095, 'K3'), (1091, 'GM'), (1090, '34.1'), (1090, 'PEAC'), (1088, 'WALNUT'), (1086, 'PF'), (1085, 'FORT 1'), (1085, 'G14'), (1084, 'CYCK'), (1084, 'H20A'), (1082, 'G3C'), (1079, 'BELL'), (1078, '0047-B'), (1077, 'R2'), (1075, 'OL'), (1069, 'GARL'), (1069, 'P25B'), (1066, '0052'), (1066, 'P1'), (1063, 'SAL'), (1061, 'WASHP'), (1059, 'TE13'), (1057, 'PR04'), (1052, '01-17'), (1051, '504.0'), (1050, 'RR 7'), (1050, 'RR1-2'), (1049, 'BE-1'), (1047, 'G7B'), (1046, '01-51'), (1045, 'OKHL'), (1041, 'BE-7'), (1041, 'CC32'), (1036, '11 PRI'), (1034, 'H17'), (1033, 'HAY1'), (1029, '07-00'), (1026, 'WN'), (1025, '1301'), (1025, 'EM'), (1021, 'SKNB'), (1019, '117'), (1019, 'GIDD'), (1017, 'FAUCT'), (1015, 'PEE'), (1010, 'G28'), (1007, 'G49'), (1005, 'BE-2'), (1005, 'INGO'), (996, 'ML23'), (992, 'SMCA'), (986, 'ANTI'), (984, 'P75'), (983, 'PH2'), (982, 'PRWB'), (980, '12S'), (979, 'PANTE'), (978, 'CC06'), (977, '302.0'), (975, 'LW18'), (975, 'NM13'), (970, 'CA'), (970, 'G6B'), (968, 'CC04'), (968, 'G3B'), (967, '0029-A'), (966, 'GCK'), (966, 'P17'), (965, 'G12'), (965, 'STEC'), (961, 'CC10'), (960, 'LU16'), (957, '1301.0'), (957, 'RR 3'), (957, 'TURK'), (955, 'P25'), (953, '1501'), (953, 'BUX'), (953, 'MG'), (953, 'P03'), (951, 'P80'), (950, '1205.0'), (946, 'SAV'), (943, 'PC'), (942, '105'), (941, 'P09'), (939, 'KI'), (938, 'WAN'), (937, 'NFAL'), (930, 'SC'), (927, 'PRSA'), (927, 'UU17'), (924, 'G42B'), (924, 'RR 4'), (923, 'P21'), (922, 'AUROR'), (922, 'GRAPEV'), (921, 'WDSD'), (917, 'EBBS C'), (916, '20.1'), (916, 'CC07'), (915, 'GULL'), (912, 'RX'), (907, 'HLWY'), (906, 'HPR'), (903, 'ANS'), (901, 'CS04'), (900, '0065'), (891, 'MAR 4'), (888, '0029-B'), (888, 'H19B'), (887, 'EAST H'), (885, 'PRWA'), (879, 'HAIS'), (878, 'MAR 5'), (877, '043'), (871, 'P02B'), (866, 'SWASH'), (863, 'WALS'), (858, '1101.0'), (858, 'RR'), (857, '4S'), (857, 'P12A'), (856, 'R1'), (851, '06W'), (851, 'CLCE'), (848, '1819.0'), (844, 'HA'), (832, 'P2'), (829, 'ID'), (825, 'SUGG'), (819, 'ARBA'), (819, 'K2'), (813, 'POLK'), (811, 'ROCK'), (809, 'K8'), (803, 'EDWAR'), (803, 'KINGST'), (800, '1401.0'), (800, 'RR 5'), (795, 'PRWH'), (795, 'SEABOA'), (792, '1GB'), (792, 'SBRG'), (784, 'BLCK'), (778, '14-01'), (777, '23.3'), (776, 'CSON'), (773, 'K1'), (768, '27.2'), (768, 'JARE'), (766, 'UN'), (765, '106'), (764, 'PINET'), (763, 'WEST H'), (760, 'WOPO'), (755, 'BEAR'), (755, 'FRCO'), (753, 'LAUREL'), (742, '4'), (742, 'CAST'), (737, 'DFB9'), (735, 'TC1'), (733, 'P07A'), (725, '0019'), (725, '123'), (721, 'ANDE'), (720, 'CHIN'), (718, 'P13A'), (717, '0901'), (717, 'HB'), (714, 'MAR 3'), (709, 'SBCK'), (706, '03N2'), (705, '01-25'), (704, 'P11'), (703, 'HM'), (700, 'N.COVE'), (699, 'AVON'), (698, 'BULL'), (696, 'HV'), (692, '0062'), (692, 'OCK'), (689, 'UH08'), (686, '122'), (685, 'ALARKA'), (684, 'SK'), (680, '109'), (679, 'HOT SP'), (675, '303.0'), (674, 'HOOK'), (674, 'RIV'), (673, 'PROVI'), (667, 'CALY'), (664, 'ROC'), (658, 'HERR'), (651, '0064'), (651, 'HANG'), (651, 'SWEE'), (651, 'WARN'), (650, 'GN'), (648, 'SPRING'), (644, 'FC-1'), (634, 'CJ'), (634, 'T.COVE'), (626, '07-07A'), (625, '101'), (622, '0018'), (622, 'CFRK'), (617, 'HTOP'), (600, 'BELVID'), (600, 'CHE'), (600, 'P35'), (598, 'P01'), (595, 'GLIS'), (590, 'TUSQ'), (587, 'CC19'), (587, 'NRIV'), (586, 'PRWQ'), (582, 'CHCA'), (581, 'DASW'), (579, 'SH2'), (576, '114'), (571, 'LEAS'), (570, 'ATSL'), (566, '65'), (562, 'MASM'), (561, 'DUCK'), (550, 'PH1'), (545, 'CREEKS'), (537, 'P13'), (534, 'P55'), (532, 'GALATI'), (520, 'CV'), (515, 'P65'), (511, 'TLT'), (510, 'CFK'), (505, '63.1'), (489, '23.2'), (483, 'MCRK'), (472, 'WDS'), (469, '03 EGY'), (468, '10 PEN'), (467, 'UNKA'), (463, 'LIT'), (462, 'HAT'), (454, 'ML'), (450, 'MERR'), (445, '0023'), (444, 'P18'), (443, 'NEWTOW'), (443, 'SANDY'), (430, 'WAD'), (424, 'ENG'), (423, '1AL A'), (421, 'SQ'), (418, 'P45'), (400, 'P02'), (397, '0212'), (397, 'GCRK'), (395, 'HAYC'), (395, 'PL10'), (392, 'P70'), (389, '05 GRE'), (384, '0025'), (373, 'LL'), (370, '681.0'), (370, 'TAPO'), (368, 'TOPT'), (364, '2SW'), (352, '07 BRU'), (351, 'P08'), (348, '0027'), (343, 'BUTWD'), (341, 'CE'), (328, 'IBSP'), (311, 'CONC'), (306, 'SEVERN'), (302, '0007'), (295, 'IW'), (288, '0008'), (287, 'LOCK'), (286, '0017'), (285, '04 RAM'), (279, '01-07A'), (278, 'MH07'), (269, 'WO'), (267, 'OPH'), (266, 'FF'), (266, 'GW'), (265, 'SLAD'), (263, '0028'), (258, 'CI'), (249, 'BM'), (242, '0026'), (230, 'LASKER'), (226, 'REVERE'), (196, 'NICANO'), (190, '0010'), (190, '0016'), (182, 'P12'), (168, '4VM A'), (166, 'CISL'), (159, '4HB'), (154, '4MSIC'), (154, 'CT03'), (138, 'FC-2'), (121, 'STPT'), (100, '1920'), (95, '09.1'), (89, '0102'), (85, '212'), (77, '1203'), (70, '08.2'), (70, 'EL'), (68, '0104'), (65, '02.1'), (65, '0801'), (65, '229'), (63, '148'), (63, '2530'), (61, '03.1'), (61, '05.1'), (57, '0103'), (56, '0201'), (56, '211'), (55, '1202'), (54, '243'), (52, '230'), (51, '151'), (47, '01.1'), (47, '222'), (46, '203'), (45, '07.1'), (44, '04.1'), (44, '201'), (43, '06.1'), (42, '210'), (41, '149'), (40, '135'), (39, '08.3'), (38, '1205'), (37, '1204'), (37, '145'), (37, '202'), (37, '221'), (37, '231'), (36, '089'), (36, '113'), (34, '206'), (33, '228'), (32, '082'), (31, '077'), (31, '141'), (30, '227'), (29, '134'), (29, '137'), (28, '133'), (28, '140'), (28, '209'), (28, '240'), (26, '138'), (26, '208'), (26, '237'), (25, '053'), (25, '069'), (25, '081'), (25, '143'), (25, '207'), (24, '046'), (24, '080'), (24, '100'), (23, '146'), (23, '233'), (22, '088'), (22, '219'), (22, '241'), (21, '028'), (21, '045'), (21, '054'), (21, '1401'), (21, '142'), (21, '144'), (21, '213'), (21, '216'), (21, '236'), (20, '051'), (20, '079'), (20, '083'), (20, '087'), (20, '091'), (20, '215'), (19, '084'), (19, '147'), (19, '235'), (19, '239'), (18, '062'), (18, '214'), (18, '220'), (18, '226'), (17, '073'), (17, '116'), (17, '234'), (17, '242'), (16, '047'), (16, '052'), (16, '131'), (16, '136'), (16, '150'), (16, '217'), (15, '055'), (15, '076'), (15, '200'), (14, '070'), (14, '099'), (13, '037'), (13, '044'), (13, '056'), (13, '071'), (13, '078.1'), (13, '085'), (13, '098'), (13, '224'), (12, '038'), (12, '050'), (12, '061'), (12, '072'), (12, '130'), (12, '232'), (11, '048'), (11, '057'), (11, '074'), (11, '092'), (11, '115'), (10, '058'), (10, '086'), (10, '205'), (10, '218'), (9, '049'), (9, '066'), (9, '681'), (8, '017'), (8, '095'), (7, '020'), (7, '029'), (7, '068'), (7, '075'), (7, '225'), (6, '059'), (6, '065'), (6, '090'), (6, '094'), (6, '096'), (6, '097'), (5, '060'), (5, '110'), (2, '067'), (2, '093'), (2, '132')]\n",
            "[(10, '14.2', '11.0'), (10, '14.3', '11.0'), (10, '18.2', '11.0'), (10, '19.1', '11.0'), (10, '25.1', '11.0'), (10, '33.3', '11.0'), (10, '44.1', '11.0'), (10, '48.1', '11.0'), (10, '54.2', '11.0'), (10, '58.1', '11.0'), (10, '62.1', '11.0'), (10, '68.1', '11.0'), (10, '71.1', '11.0'), (9, '10.1', '11.0'), (9, '107.1', '12.0'), (9, '11.1', '11.0'), (9, '139.1', '9.0'), (9, '15.1', '11.0'), (9, '17.1', '11.0'), (9, '20.1', '11.0'), (9, '204.1', '12.0'), (9, '21.1', '11.0'), (9, '223.1', '12.0'), (9, '26.1', '11.0'), (9, '27.2', '11.0'), (9, '28.1', '11.0'), (9, '30.2', '11.0'), (9, '30.3', '11.0'), (9, '35.1', '11.0'), (9, '38.3', '11.0'), (9, '40.2', '11.0'), (9, '41.1', '11.0'), (9, '43.2', '11.0'), (9, '47.1', '11.0'), (9, '49.1', '11.0'), (9, '52.1', '11.0'), (9, '55.1', '11.0'), (9, '56.2', '11.0'), (9, '61.1', '11.0'), (9, '65.1', '11.0'), (9, '67.1', '11.0'), (9, '70.1', '11.0'), (8, '12.1', '11.0'), (8, '13.1', '11.0'), (8, '16.2', '11.0'), (8, '22.2', '11.0'), (8, '238.1', '12.0'), (8, '24.1', '11.0'), (8, '29.2', '11.0'), (8, '32.1', '11.0'), (8, '33.2', '11.0'), (8, '34.1', '11.0'), (8, '36.1', '11.0'), (8, '39.2', '11.0'), (8, '39.3', '11.0'), (8, '42.1', '11.0'), (8, '45.1', '11.0'), (8, '51.2', '11.0'), (8, '53.1', '11.0'), (8, '57.1', '11.0'), (8, '59.1', '11.0'), (8, '60.2', '11.0'), (8, '60.4', '11.0'), (8, '66.1', '11.0'), (8, '69.1', '11.0'), (7, '23.2', '11.0'), (7, '23.3', '11.0'), (7, '31.1', '11.0'), (7, '38.2', '11.0'), (7, '46.1', '11.0'), (7, '50.1', '11.0'), (7, '64.1', '11.0'), (6, '0011', '5.0'), (6, '0013', '5.0'), (6, '0031', '5.0'), (6, '0034', '5.0'), (6, '0047-A', '5.0'), (6, '007', '9.0'), (6, '01', '11.0'), (6, '01', '4.0'), (6, '01-04', '2.0'), (6, '01-06', '2.0'), (6, '01-08', '8.0'), (6, '01-10', '8.0'), (6, '01-11', '8.0'), (6, '01-14', '2.0'), (6, '01-15', '2.0'), (6, '01-16', '9.0'), (6, '01-21', '2.0'), (6, '01-22', '2.0'), (6, '01-27', '2.0'), (6, '01-28', '2.0'), (6, '01-31', '2.0'), (6, '01-39', '2.0'), (6, '01-40', '2.0'), (6, '01-42', '2.0'), (6, '01-44', '2.0'), (6, '01-45', '2.0'), (6, '01-46', '2.0'), (6, '01-48', '2.0'), (6, '01-49', '2.0'), (6, '0101', '1.0'), (6, '013', '9.0'), (6, '015', '9.0'), (6, '016', '9.0'), (6, '019', '9.0'), (6, '02', '11.0'), (6, '02', '13.0'), (6, '02', '3.0'), (6, '02', '7.0'), (6, '02-01', '8.0'), (6, '02-02', '4.0'), (6, '02-03', '8.0'), (6, '02-05', '8.0'), (6, '02-07', '8.0'), (6, '02-08', '8.0'), (6, '02-09', '8.0'), (6, '02-25', '9.0'), (6, '0200B', '3.0'), (6, '020A', '9.0'), (6, '020B', '9.0'), (6, '021', '9.0'), (6, '026', '9.0'), (6, '029A', '9.0'), (6, '03', '11.0'), (6, '03', '9.0'), (6, '03-00', '2.0'), (6, '03-00', '8.0'), (6, '030', '9.0'), (6, '0301', '1.0'), (6, '031', '9.0'), (6, '034', '9.0'), (6, '035', '13.0'), (6, '036', '9.0'), (6, '03A', '5.0'), (6, '03N', '13.0'), (6, '03S', '13.0'), (6, '04', '13.0'), (6, '04', '9.0'), (6, '04-01', '2.0'), (6, '04-01', '8.0'), (6, '04-03', '2.0'), (6, '04-03', '8.0'), (6, '04-08', '2.0'), (6, '04-12', '2.0'), (6, '04-12', '8.0'), (6, '04-13', '8.0'), (6, '04-18', '2.0'), (6, '04-19', '2.0'), (6, '04-20', '2.0'), (6, '042', '9.0'), (6, '04A', '7.0'), (6, '05', '7.0'), (6, '05-01', '2.0'), (6, '05-03', '2.0'), (6, '05-05', '2.0'), (6, '05-06', '2.0'), (6, '05-07', '2.0'), (6, '0501', '1.0'), (6, '05A', '13.0'), (6, '05A', '5.0'), (6, '05A', '9.0'), (6, '06', '11.0'), (6, '06-00', '8.0'), (6, '06-04', '2.0'), (6, '06-09', '2.0'), (6, '06-10', '2.0'), (6, '06B', '9.0'), (6, '06E', '13.0'), (6, '06S', '13.0'), (6, '07', '11.0'), (6, '07', '3.0'), (6, '07', '7.0'), (6, '07', '9.0'), (6, '07-06', '2.0'), (6, '07-07', '2.0'), (6, '07-10', '2.0'), (6, '07-12', '2.0'), (6, '08-00', '8.0'), (6, '08-02', '2.0'), (6, '08-03', '2.0'), (6, '08-04', '4.0'), (6, '08-05', '2.0'), (6, '08-06', '2.0'), (6, '08-09', '2.0'), (6, '08-10', '2.0'), (6, '08-11', '2.0'), (6, '0800A', '1.0'), (6, '0800B', '1.0'), (6, '09', '13.0'), (6, '09', '9.0'), (6, '09-00', '8.0'), (6, '09N', '13.0'), (6, '09S', '13.0'), (6, '1.0', '10.0'), (6, '1.0', '11.0'), (6, '1.0', '9.0'), (6, '1.1', '11.0'), (6, '10', '13.0'), (6, '10-00', '8.0'), (6, '10-02', '4.0'), (6, '10-03', '2.0'), (6, '10-04', '2.0'), (6, '10.0', '10.0'), (6, '10.0', '5.0'), (6, '100.0', '9.0'), (6, '1001.0', '1.0'), (6, '101.0', '10.0'), (6, '103.0', '9.0'), (6, '104.0', '12.0'), (6, '108.0', '12.0'), (6, '10S', '13.0'), (6, '11', '13.0'), (6, '11', '3.0'), (6, '11', '5.0'), (6, '11', '9.0'), (6, '11-01', '2.0'), (6, '11-01', '8.0'), (6, '11.0', '10.0'), (6, '11.0', '12.0'), (6, '11.0', '4.0'), (6, '11.0', '5.0'), (6, '1102B', '1.0'), (6, '113.0', '9.0'), (6, '116.0', '12.0'), (6, '117.0', '12.0'), (6, '118.0', '9.0'), (6, '12', '7.0'), (6, '12', '9.0'), (6, '12-01', '2.0'), (6, '12-04', '8.0'), (6, '12-05', '8.0'), (6, '12-06', '2.0'), (6, '12-07', '2.0'), (6, '12-09', '2.0'), (6, '12-09', '8.0'), (6, '12-12', '8.0'), (6, '12.0', '10.0'), (6, '12.0', '5.0'), (6, '120.0', '12.0'), (6, '1201', '1.0'), (6, '122.0', '12.0'), (6, '123.0', '6.0'), (6, '124.0', '12.0'), (6, '126.0', '12.0'), (6, '127', '13.0'), (6, '127', '5.0'), (6, '13', '13.0'), (6, '13-01', '4.0'), (6, '13-02', '4.0'), (6, '13-06', '4.0'), (6, '13-08', '4.0'), (6, '13-10', '4.0'), (6, '13.0', '12.0'), (6, '13.0', '5.0'), (6, '130.0', '12.0'), (6, '131.0', '10.0'), (6, '132.0', '10.0'), (6, '132.0', '12.0'), (6, '134.0', '12.0'), (6, '135.0', '12.0'), (6, '136.0', '9.0'), (6, '137.0', '9.0'), (6, '138.0', '12.0'), (6, '14', '4.0'), (6, '14', '5.0'), (6, '14', '7.0'), (6, '14', '9.0'), (6, '14-02', '4.0'), (6, '14.0', '4.0'), (6, '14.0', '5.0'), (6, '140.0', '9.0'), (6, '1403A2', '1.0'), (6, '1403B', '1.0'), (6, '141.0', '12.0'), (6, '142.0', '12.0'), (6, '145.0', '12.0'), (6, '146.0', '12.0'), (6, '147.0', '12.0'), (6, '148.0', '9.0'), (6, '149.0', '12.0'), (6, '15', '9.0'), (6, '15-02', '2.0'), (6, '15-03', '2.0'), (6, '15-04', '2.0'), (6, '15.0', '1.0'), (6, '15.0', '12.0'), (6, '15.0', '4.0'), (6, '15.0', '5.0'), (6, '15.0', '6.0'), (6, '1503', '1.0'), (6, '1504A', '1.0'), (6, '1504B', '1.0'), (6, '1505A', '1.0'), (6, '1507', '1.0'), (6, '1508B', '1.0'), (6, '1509', '1.0'), (6, '1511B', '3.0'), (6, '1512A', '1.0'), (6, '1513A', '3.0'), (6, '1513B', '3.0'), (6, '16', '3.0'), (6, '16-01', '2.0'), (6, '16-02', '2.0'), (6, '16-03', '2.0'), (6, '16-07', '2.0'), (6, '16-09', '2.0'), (6, '16-11', '2.0'), (6, '16.0', '10.0'), (6, '16.0', '5.0'), (6, '17', '4.0'), (6, '17', '7.0'), (6, '17-01', '2.0'), (6, '17-03', '2.0'), (6, '17-04', '4.0'), (6, '17-07', '2.0'), (6, '17-09', '2.0'), (6, '17-12', '2.0'), (6, '17-13', '2.0'), (6, '17.0', '12.0'), (6, '17.0', '4.0'), (6, '17.0', '5.0'), (6, '17.0', '8.0'), (6, '18', '13.0'), (6, '18', '4.0'), (6, '18-01', '2.0'), (6, '18-04', '2.0'), (6, '18-05', '2.0'), (6, '18-06', '2.0'), (6, '18.0', '4.0'), (6, '18.0', '5.0'), (6, '19-05', '4.0'), (6, '19-07', '4.0'), (6, '19-09', '4.0'), (6, '19-12', '4.0'), (6, '19-13', '4.0'), (6, '19-15', '4.0'), (6, '19-17', '4.0'), (6, '19-21', '4.0'), (6, '19.0', '10.0'), (6, '19.0', '5.0'), (6, '1920.0', '1.0'), (6, '1AL A', '3.0'), (6, '2.0', '10.0'), (6, '2.0', '11.0'), (6, '2.0', '12.0'), (6, '2.0', '9.0'), (6, '2.1', '11.0'), (6, '20', '7.0'), (6, '20-01', '2.0'), (6, '20-03', '2.0'), (6, '20-04', '2.0'), (6, '20-05', '2.0'), (6, '20-06A', '2.0'), (6, '20-08', '2.0'), (6, '20-10', '2.0'), (6, '20-12', '2.0'), (6, '20-14', '2.0'), (6, '20-15', '2.0'), (6, '20-16', '2.0'), (6, '20.0', '5.0'), (6, '200.0', '12.0'), (6, '201.0', '12.0'), (6, '202.0', '12.0'), (6, '203.0', '12.0'), (6, '205.0', '12.0'), (6, '206.0', '12.0'), (6, '206.0', '6.0'), (6, '207.0', '10.0'), (6, '207.0', '12.0'), (6, '209.0', '12.0'), (6, '21', '4.0'), (6, '21.0', '10.0'), (6, '210.0', '12.0'), (6, '211.0', '12.0'), (6, '212.0', '12.0'), (6, '212.0', '8.0'), (6, '213.0', '12.0'), (6, '214.0', '12.0'), (6, '215.0', '9.0'), (6, '216.0', '12.0'), (6, '22', '4.0'), (6, '22', '7.0'), (6, '22.0', '1.0'), (6, '22.0', '12.0'), (6, '22.0', '5.0'), (6, '221.0', '12.0'), (6, '222.0', '12.0'), (6, '224.0', '12.0'), (6, '225.0', '12.0'), (6, '226.0', '9.0'), (6, '227.0', '9.0'), (6, '228.0', '12.0'), (6, '229.0', '12.0'), (6, '23', '4.0'), (6, '23.0', '5.0'), (6, '23.0', '8.0'), (6, '230.0', '12.0'), (6, '231.0', '9.0'), (6, '232.0', '9.0'), (6, '234.0', '12.0'), (6, '236.0', '12.0'), (6, '237.0', '12.0'), (6, '240.0', '12.0'), (6, '241.0', '12.0'), (6, '243.0', '12.0'), (6, '25', '13.0'), (6, '25', '4.0'), (6, '25.0', '12.0'), (6, '25.0', '5.0'), (6, '2530.0', '1.0'), (6, '26', '13.0'), (6, '26', '4.0'), (6, '26.0', '1.0'), (6, '26A', '9.0'), (6, '27.0', '10.0'), (6, '28', '9.0'), (6, '28.0', '1.0'), (6, '29', '4.0'), (6, '29', '5.0'), (6, '29.0', '12.0'), (6, '29.0', '5.0'), (6, '3.0', '1.0'), (6, '3.0', '10.0'), (6, '3.0', '4.0'), (6, '3.0', '5.0'), (6, '3.0', '8.0'), (6, '30', '13.0'), (6, '30-2', '4.0'), (6, '30.0', '12.0'), (6, '30.0', '5.0'), (6, '31', '13.0'), (6, '31', '4.0'), (6, '31.0', '10.0'), (6, '31.0', '12.0'), (6, '31.0', '5.0'), (6, '32.0', '10.0'), (6, '32.0', '5.0'), (6, '33', '4.0'), (6, '33.0', '10.0'), (6, '33.0', '12.0'), (6, '34', '13.0'), (6, '34', '9.0'), (6, '34-2', '4.0'), (6, '34.0', '10.0'), (6, '34.0', '12.0'), (6, '35.0', '5.0'), (6, '35.3', '4.0'), (6, '36', '13.0'), (6, '36', '4.0'), (6, '36.0', '5.0'), (6, '37', '4.0'), (6, '37.1', '11.0'), (6, '38', '13.0'), (6, '38', '4.0'), (6, '38.0', '12.0'), (6, '38.0', '5.0'), (6, '39', '4.0'), (6, '39.0', '12.0'), (6, '39.0', '5.0'), (6, '4.0', '10.0'), (6, '4.0', '5.0'), (6, '4.0', '9.0'), (6, '40', '13.0'), (6, '40.0', '12.0'), (6, '40.0', '5.0'), (6, '405.0', '6.0'), (6, '41', '13.0'), (6, '41.0', '10.0'), (6, '41.0', '5.0'), (6, '42', '13.0'), (6, '42', '4.0'), (6, '42.0', '5.0'), (6, '42.0', '6.0'), (6, '43.0', '12.0'), (6, '43.0', '5.0'), (6, '43.0', '6.0'), (6, '44', '13.0'), (6, '44', '4.0'), (6, '45', '4.0'), (6, '45.0', '12.0'), (6, '45.0', '5.0'), (6, '46', '4.0'), (6, '46.0', '12.0'), (6, '46.0', '5.0'), (6, '47.0', '12.0'), (6, '5.0', '1.0'), (6, '5.0', '11.0'), (6, '5.0', '4.0'), (6, '5.0', '5.0'), (6, '5.1', '11.0'), (6, '50', '4.0'), (6, '503.0', '6.0'), (6, '507.0', '6.0'), (6, '51', '4.0'), (6, '53.0', '10.0'), (6, '54', '4.0'), (6, '54.0', '10.0'), (6, '58.0', '9.0'), (6, '6.0', '1.0'), (6, '6.0', '10.0'), (6, '6.0', '11.0'), (6, '60', '13.0'), (6, '602.0', '6.0'), (6, '603.0', '6.0'), (6, '605.0', '6.0'), (6, '606.0', '6.0'), (6, '61.0', '6.0'), (6, '63', '9.0'), (6, '63.1', '11.0'), (6, '66', '13.0'), (6, '66.0', '10.0'), (6, '7.0', '1.0'), (6, '7.0', '12.0'), (6, '7.0', '5.0'), (6, '7.0', '8.0'), (6, '705.0', '6.0'), (6, '708.0', '6.0'), (6, '71.0', '10.0'), (6, '72', '13.0'), (6, '72.0', '10.0'), (6, '73.0', '10.0'), (6, '74.0', '10.0'), (6, '75', '4.0'), (6, '75.0', '10.0'), (6, '75.0', '9.0'), (6, '76', '13.0'), (6, '77.0', '12.0'), (6, '78', '13.0'), (6, '79.0', '12.0'), (6, '8.0', '10.0'), (6, '8.0', '13.0'), (6, '8.0', '5.0'), (6, '8.0', '8.0'), (6, '8.2', '11.0'), (6, '8.3', '11.0'), (6, '80.0', '12.0'), (6, '806.0', '6.0'), (6, '808.0', '6.0'), (6, '80A', '13.0'), (6, '81.0', '10.0'), (6, '81.0', '12.0'), (6, '82', '13.0'), (6, '82.0', '12.0'), (6, '83.0', '12.0'), (6, '84', '13.0'), (6, '85.0', '12.0'), (6, '88.0', '9.0'), (6, '89.0', '12.0'), (6, '9.0', '10.0'), (6, '9.0', '9.0'), (6, '9.1', '11.0'), (6, '906.0', '6.0'), (6, '908.0', '6.0'), (6, '95.0', '12.0'), (6, '98.0', '12.0'), (6, 'A1', '1.0'), (6, 'A1', '8.0'), (6, 'A2', '8.0'), (6, 'AC', '11.0'), (6, 'AH49', '8.0'), (6, 'AN', '13.0'), (6, 'AS', '13.0'), (6, 'AW', '13.0'), (6, 'B2', '11.0'), (6, 'BA', '10.0'), (6, 'BC', '13.0'), (6, 'BC21', '3.0'), (6, 'BE', '10.0'), (6, 'BEADM', '3.0'), (6, 'BETHEL', '3.0'), (6, 'BM08', '3.0'), (6, 'BURN', '9.0'), (6, 'C1', '8.0'), (6, 'CAM', '8.0'), (6, 'CC', '11.0'), (6, 'CC03', '8.0'), (6, 'CC1', '10.0'), (6, 'CC14', '8.0'), (6, 'CC17', '8.0'), (6, 'CC18', '8.0'), (6, 'CC21', '8.0'), (6, 'CC26', '8.0'), (6, 'CC27', '8.0'), (6, 'CC29', '8.0'), (6, 'CC3', '10.0'), (6, 'CC31', '8.0'), (6, 'CC33', '8.0'), (6, 'CC4', '10.0'), (6, 'CD', '10.0'), (6, 'CF02', '7.0'), (6, 'CF05', '7.0'), (6, 'CF06', '7.0'), (6, 'CF1', '4.0'), (6, 'CF11', '7.0'), (6, 'CG05', '11.0'), (6, 'CG1', '6.0'), (6, 'CH', '3.0'), (6, 'CH-A', '10.0'), (6, 'CHOCO', '3.0'), (6, 'CL-N', '11.0'), (6, 'CL07', '11.0'), (6, 'CL08', '11.0'), (6, 'CL57-1', '8.0'), (6, 'COL', '3.0'), (6, 'CR07', '3.0'), (6, 'CRDM', '4.0'), (6, 'CUL', '11.0'), (6, 'CW', '4.0'), (6, 'CX', '4.0'), (6, 'DCRK', '10.0'), (6, 'DR', '10.0'), (6, 'DV08', '10.0'), (6, 'DV2-B', '10.0'), (6, 'E1', '8.0'), (6, 'EAB', '9.0'), (6, 'EAST', '3.0'), (6, 'EC', '10.0'), (6, 'ED', '11.0'), (6, 'EN03', '3.0'), (6, 'ENF1', '1.0'), (6, 'ES', '11.0'), (6, 'ESC114', '13.0'), (6, 'EUR-WP', '8.0'), (6, 'FBSH', '10.0'), (6, 'FEN1', '6.0'), (6, 'FLRI', '13.0'), (6, 'FP03', '7.0'), (6, 'FP04', '7.0'), (6, 'FP06', '7.0'), (6, 'FP08', '7.0'), (6, 'FR3', '6.0'), (6, 'FR5A', '6.0'), (6, 'FRCO', '3.0'), (6, 'FS16', '3.0'), (6, 'FT', '10.0'), (6, 'G06', '6.0'), (6, 'G07', '6.0'), (6, 'G08', '6.0'), (6, 'G10A', '8.0'), (6, 'G11B', '8.0'), (6, 'G17', '6.0'), (6, 'G20', '6.0'), (6, 'G21', '6.0'), (6, 'G27', '6.0'), (6, 'G2B', '8.0'), (6, 'G2C-1', '8.0'), (6, 'G2E-1', '8.0'), (6, 'G2E-2', '8.0'), (6, 'G38', '6.0'), (6, 'G3A-1', '8.0'), (6, 'G3A-2', '8.0'), (6, 'G3B', '8.0'), (6, 'G42A', '6.0'), (6, 'G43', '6.0'), (6, 'G46', '6.0'), (6, 'G47', '6.0'), (6, 'G48', '6.0'), (6, 'G50', '6.0'), (6, 'G54', '6.0'), (6, 'G58', '6.0'), (6, 'G5A-1', '8.0'), (6, 'G5B-1', '8.0'), (6, 'G63', '6.0'), (6, 'G70', '6.0'), (6, 'G74', '6.0'), (6, 'G8A', '8.0'), (6, 'GASTON', '1.0'), (6, 'GB', '4.0'), (6, 'GB12', '3.0'), (6, 'GR06', '7.0'), (6, 'H02', '7.0'), (6, 'H03', '6.0'), (6, 'H03', '7.0'), (6, 'H04', '6.0'), (6, 'H04', '7.0'), (6, 'H05', '6.0'), (6, 'H05', '7.0'), (6, 'H06', '7.0'), (6, 'H08', '7.0'), (6, 'H09', '6.0'), (6, 'H10', '7.0'), (6, 'H11', '7.0'), (6, 'H12', '6.0'), (6, 'H18', '6.0'), (6, 'H19A', '6.0'), (6, 'H21', '6.0'), (6, 'H26', '6.0'), (6, 'H27-B', '6.0'), (6, 'HAIS', '3.0'), (6, 'HC', '11.0'), (6, 'HC33', '10.0'), (6, 'HF', '4.0'), (6, 'HIWA', '11.0'), (6, 'HM05', '3.0'), (6, 'HR17', '3.0'), (6, 'HU', '10.0'), (6, 'HU20', '3.0'), (6, 'IS23', '10.0'), (6, 'JA01', '3.0'), (6, 'JC', '11.0'), (6, 'JEF2', '6.0'), (6, 'KDH', '3.0'), (6, 'KEEN', '7.0'), (6, 'LB', '13.0'), (6, 'LILE', '9.0'), (6, 'LOCU', '13.0'), (6, 'LR63', '8.0'), (6, 'LS12', '10.0'), (6, 'LT18', '7.0'), (6, 'LTR', '8.0'), (6, 'LW31', '10.0'), (6, 'M02', '7.0'), (6, 'M04', '7.0'), (6, 'M06', '7.0'), (6, 'MAR 1', '11.0'), (6, 'MC', '10.0'), (6, 'MCH110', '4.0'), (6, 'MH', '3.0'), (6, 'MIDD', '1.0'), (6, 'MON1', '6.0'), (6, 'MON2A', '6.0'), (6, 'MON3', '6.0'), (6, 'MR02', '8.0'), (6, 'MS', '10.0'), (6, 'MURN', '11.0'), (6, 'MURS', '11.0'), (6, 'MY', '3.0'), (6, 'N4', '3.0'), (6, 'N6', '3.0'), (6, 'NCGR1', '6.0'), (6, 'NE22A', '3.0'), (6, 'NE22B', '3.0'), (6, 'NEW', '3.0'), (6, 'NEW HO', '3.0'), (6, 'NH', '1.0'), (6, 'NIX', '3.0'), (6, 'NM', '11.0'), (6, 'NMAD', '6.0'), (6, 'NORTH', '11.0'), (6, 'NR02', '3.0'), (6, 'NWM117', '4.0'), (6, 'OG', '4.0'), (6, 'OR2', '6.0'), (6, 'P', '11.0'), (6, 'P02A', '1.0'), (6, 'P06A', '1.0'), (6, 'P08A', '1.0'), (6, 'P11A', '1.0'), (6, 'P19', '7.0'), (6, 'P20A', '1.0'), (6, 'P22A', '1.0'), (6, 'PA', '4.0'), (6, 'PB', '3.0'), (6, 'PEAC', '9.0'), (6, 'PG1', '6.0'), (6, 'PG2', '6.0'), (6, 'PHA1', '9.0'), (6, 'PHC', '9.0'), (6, 'PIT113', '4.0'), (6, 'PLVW', '7.0'), (6, 'PP', '3.0'), (6, 'PR', '11.0'), (6, 'PR', '13.0'), (6, 'PR01', '5.0'), (6, 'PR01', '8.0'), (6, 'PR07', '8.0'), (6, 'PR09', '7.0'), (6, 'PR10A', '7.0'), (6, 'PR10B', '7.0'), (6, 'PR11A', '7.0'), (6, 'PR11B', '7.0'), (6, 'PR12B', '7.0'), (6, 'PR14', '5.0'), (6, 'PR14', '7.0'), (6, 'PR16', '8.0'), (6, 'PR18', '5.0'), (6, 'PR23B', '7.0'), (6, 'PR24', '5.0'), (6, 'PR24', '7.0'), (6, 'PR25', '7.0'), (6, 'PR26', '7.0'), (6, 'PR27A', '7.0'), (6, 'PR27B', '7.0'), (6, 'PR28', '8.0'), (6, 'PR29', '7.0'), (6, 'PR29B', '7.0'), (6, 'PR31', '5.0'), (6, 'PR31', '8.0'), (6, 'PR31B', '7.0'), (6, 'PR32', '7.0'), (6, 'PR33', '5.0'), (6, 'PR34', '5.0'), (6, 'PR34', '7.0'), (6, 'PR35', '5.0'), (6, 'PR35', '7.0'), (6, 'PR37', '7.0'), (6, 'PRWL', '1.0'), (6, 'PRWR', '1.0'), (6, 'RC', '10.0'), (6, 'RC1', '6.0'), (6, 'RC2', '6.0'), (6, 'RGER', '11.0'), (6, 'RIPPY', '5.0'), (6, 'RL09', '3.0'), (6, 'RM', '13.0'), (6, 'RN', '13.0'), (6, 'ROWA', '7.0'), (6, 'RP20', '7.0'), (6, 'S C', '5.0'), (6, 'S S', '5.0'), (6, 'SAL', '3.0'), (6, 'SAV', '11.0'), (6, 'SB', '11.0'), (6, 'SB02', '7.0'), (6, 'SBRG', '7.0'), (6, 'SC13', '7.0'), (6, 'SCRK', '1.0'), (6, 'SDRI', '6.0'), (6, 'SH#1', '1.0'), (6, 'SH77', '8.0'), (6, 'SHIN', '1.0'), (6, 'SL78-3', '8.0'), (6, 'SLS', '9.0'), (6, 'SO', '13.0'), (6, 'SP15', '7.0'), (6, 'SPRING', '11.0'), (6, 'ST1', '10.0'), (6, 'ST3', '10.0'), (6, 'ST36', '10.0'), (6, 'ST4', '10.0'), (6, 'ST6', '10.0'), (6, 'SW19', '3.0'), (6, 'SWEE', '11.0'), (6, 'TA37', '10.0'), (6, 'TC1', '11.0'), (6, 'TH', '4.0'), (6, 'TL06', '3.0'), (6, 'TR123', '11.0'), (6, 'TYHO', '4.0'), (6, 'UT14', '7.0'), (6, 'VE14', '3.0'), (6, 'VR15', '3.0'), (6, 'W03', '7.0'), (6, 'W1', '1.0'), (6, 'W15', '7.0'), (6, 'W16', '7.0'), (6, 'W18', '7.0'), (6, 'W21', '7.0'), (6, 'W27', '7.0'), (6, 'W28', '7.0'), (6, 'W29', '7.0'), (6, 'W30', '7.0'), (6, 'WADES', '9.0'), (6, 'WC', '11.0'), (6, 'WC', '4.0'), (6, 'WD', '4.0'), (6, 'WE', '11.0'), (6, 'WEB', '11.0'), (6, 'WH', '1.0'), (6, 'WH', '4.0'), (6, 'WILT', '4.0'), (6, 'WN04', '3.0'), (5, '0001', '5.0'), (5, '0003', '5.0'), (5, '001', '9.0'), (5, '0014', '5.0'), (5, '0015', '5.0'), (5, '002', '9.0'), (5, '0022', '5.0'), (5, '0023', '8.0'), (5, '0029-A', '5.0'), (5, '003', '9.0'), (5, '0035', '5.0'), (5, '0039', '5.0'), (5, '004', '9.0'), (5, '0040', '5.0'), (5, '0047-B', '5.0'), (5, '0048', '5.0'), (5, '005', '9.0'), (5, '0051', '5.0'), (5, '0053', '5.0'), (5, '006', '1.0'), (5, '006', '9.0'), (5, '0065', '5.0'), (5, '0066', '5.0'), (5, '007', '1.0'), (5, '0070', '5.0'), (5, '01', '13.0'), (5, '01', '7.0'), (5, '01', '9.0'), (5, '01 BUR', '11.0'), (5, '01-01', '2.0'), (5, '01-02', '8.0'), (5, '01-03', '2.0'), (5, '01-07', '2.0'), (5, '01-07', '8.0'), (5, '01-09', '2.0'), (5, '01-10', '2.0'), (5, '01-12', '2.0'), (5, '01-17', '2.0'), (5, '01-18', '2.0'), (5, '01-19', '2.0'), (5, '01-20', '2.0'), (5, '01-23', '2.0'), (5, '01-25', '2.0'), (5, '01-30', '2.0'), (5, '01-32', '2.0'), (5, '01-36', '2.0'), (5, '01-37', '2.0'), (5, '01-38', '2.0'), (5, '01-41', '2.0'), (5, '01-43', '2.0'), (5, '01-47', '2.0'), (5, '01-50', '2.0'), (5, '014', '9.0'), (5, '017A', '9.0'), (5, '017B', '9.0'), (5, '02', '4.0'), (5, '02', '9.0'), (5, '02 CAN', '11.0'), (5, '02-01', '4.0'), (5, '02-02', '8.0'), (5, '02-03', '4.0'), (5, '02-06', '8.0'), (5, '0200A', '3.0'), (5, '022', '9.0'), (5, '023', '9.0'), (5, '024', '9.0'), (5, '027', '9.0'), (5, '028B', '9.0'), (5, '028C', '9.0'), (5, '028D', '9.0'), (5, '029C', '9.0'), (5, '03', '13.0'), (5, '03', '4.0'), (5, '03', '7.0'), (5, '032', '9.0'), (5, '033', '9.0'), (5, '035', '9.0'), (5, '037A', '9.0'), (5, '038A', '9.0'), (5, '038B', '9.0'), (5, '039', '9.0'), (5, '03W', '13.0'), (5, '04', '11.0'), (5, '04', '4.0'), (5, '04', '5.0'), (5, '04-02', '2.0'), (5, '04-04', '2.0'), (5, '04-05', '2.0'), (5, '04-06', '2.0'), (5, '04-07', '2.0'), (5, '04-08', '8.0'), (5, '04-09', '2.0'), (5, '04-11', '8.0'), (5, '04-13', '2.0'), (5, '04-14', '2.0'), (5, '04-15', '2.0'), (5, '04-16', '2.0'), (5, '04-17', '2.0'), (5, '040', '9.0'), (5, '0401', '1.0'), (5, '041', '9.0'), (5, '043', '9.0'), (5, '04A', '11.0'), (5, '04B2', '7.0'), (5, '05', '11.0'), (5, '05', '3.0'), (5, '05', '4.0'), (5, '05', '9.0'), (5, '05-00', '8.0'), (5, '05-08', '2.0'), (5, '05-10', '9.0'), (5, '06', '13.0'), (5, '06', '4.0'), (5, '06', '7.0'), (5, '06-05', '2.0'), (5, '06-06', '2.0'), (5, '06-08', '2.0'), (5, '06-89', '9.0'), (5, '0601', '3.0'), (5, '063', '13.0'), (5, '064', '13.0'), (5, '06A', '11.0'), (5, '06A', '5.0'), (5, '06N', '13.0'), (5, '07', '13.0'), (5, '07', '4.0'), (5, '07-00', '8.0'), (5, '07-03', '2.0'), (5, '07-04', '2.0'), (5, '07-09', '2.0'), (5, '07-13', '2.0'), (5, '0701', '1.0'), (5, '08', '13.0'), (5, '08', '4.0'), (5, '08', '7.0'), (5, '08', '9.0'), (5, '08-07', '2.0'), (5, '08-08', '2.0'), (5, '08N', '13.0'), (5, '08S', '13.0'), (5, '09', '11.0'), (5, '09', '5.0'), (5, '09 SOU', '11.0'), (5, '09-01', '4.0'), (5, '09-02', '4.0'), (5, '09-03', '4.0'), (5, '0901', '1.0'), (5, '09A', '5.0'), (5, '1', '3.0'), (5, '1.0', '12.0'), (5, '1.0', '13.0'), (5, '1.0', '4.0'), (5, '1.0', '5.0'), (5, '10', '9.0'), (5, '10-01', '4.0'), (5, '10.0', '1.0'), (5, '10.0', '11.0'), (5, '10.0', '12.0'), (5, '10.0', '4.0'), (5, '1001', '3.0'), (5, '101.0', '1.0'), (5, '101.0', '9.0'), (5, '102.0', '1.0'), (5, '102.0', '12.0'), (5, '103', '13.0'), (5, '103', '5.0'), (5, '103.0', '1.0'), (5, '104.0', '1.0'), (5, '105', '5.0'), (5, '105.0', '12.0'), (5, '107', '5.0'), (5, '108', '5.0'), (5, '109.0', '12.0'), (5, '10A', '5.0'), (5, '10A', '7.0'), (5, '10B', '7.0'), (5, '10N', '13.0'), (5, '11-02', '2.0'), (5, '11-02', '8.0'), (5, '11.0', '1.0'), (5, '11.0', '11.0'), (5, '11.0', '13.0'), (5, '11.0', '6.0'), (5, '110.0', '9.0'), (5, '1102A', '3.0'), (5, '111', '5.0'), (5, '111.0', '10.0'), (5, '111.0', '9.0'), (5, '112', '5.0'), (5, '112.0', '10.0'), (5, '114.0', '9.0'), (5, '115.0', '12.0'), (5, '115A', '5.0'), (5, '117', '5.0'), (5, '119', '5.0'), (5, '11A', '9.0'), (5, '12', '11.0'), (5, '12', '13.0'), (5, '12', '5.0'), (5, '12-02', '2.0'), (5, '12-03', '8.0'), (5, '12-04', '2.0'), (5, '12-05', '2.0'), (5, '12-06', '8.0'), (5, '12-08', '2.0'), (5, '12-08', '8.0'), (5, '12-11', '8.0'), (5, '12-13', '8.0'), (5, '12.0', '1.0'), (5, '12.0', '11.0'), (5, '12.0', '12.0'), (5, '12.0', '6.0'), (5, '120', '5.0'), (5, '1201.0', '1.0'), (5, '1202.0', '1.0'), (5, '1203.0', '1.0'), (5, '1204.0', '1.0'), (5, '121', '5.0'), (5, '122.0', '6.0'), (5, '123', '5.0'), (5, '123.0', '12.0'), (5, '124', '13.0'), (5, '125', '13.0'), (5, '127.0', '12.0'), (5, '128', '5.0'), (5, '128.0', '12.0'), (5, '129', '13.0'), (5, '129', '5.0'), (5, '12E', '13.0'), (5, '12N', '13.0'), (5, '12S', '13.0'), (5, '13', '4.0'), (5, '13', '7.0'), (5, '13', '9.0'), (5, '13-05', '2.0'), (5, '13-07', '2.0'), (5, '13-09', '4.0'), (5, '13-11', '4.0'), (5, '13.0', '1.0'), (5, '13.0', '10.0'), (5, '13.0', '11.0'), (5, '13.0', '13.0'), (5, '13.0', '4.0'), (5, '13.0', '6.0'), (5, '133.0', '10.0'), (5, '133.0', '12.0'), (5, '14', '11.0'), (5, '14', '13.0'), (5, '14', '3.0'), (5, '14.0', '1.0'), (5, '14.0', '10.0'), (5, '14.0', '12.0'), (5, '14.0', '13.0'), (5, '14.0', '6.0'), (5, '1401.0', '1.0'), (5, '1403A1', '1.0'), (5, '143.0', '12.0'), (5, '144.0', '9.0'), (5, '14A', '13.0'), (5, '15', '13.0'), (5, '15', '4.0'), (5, '15-01', '2.0'), (5, '15.0', '11.0'), (5, '15.0', '8.0'), (5, '150.0', '12.0'), (5, '1501', '1.0'), (5, '1505B', '1.0'), (5, '1506', '1.0'), (5, '1508A', '1.0'), (5, '151.0', '12.0'), (5, '1510A', '3.0'), (5, '1510B', '3.0'), (5, '1511A', '3.0'), (5, '16', '13.0'), (5, '16', '9.0'), (5, '16-05', '2.0'), (5, '16-06', '2.0'), (5, '16-10', '2.0'), (5, '16.0', '1.0'), (5, '16.0', '12.0'), (5, '16A', '11.0'), (5, '17', '13.0'), (5, '17', '3.0'), (5, '17-02', '4.0'), (5, '17-05', '2.0'), (5, '17-06', '2.0'), (5, '17-10', '2.0'), (5, '17-11', '2.0'), (5, '17.0', '1.0'), (5, '17.0', '10.0'), (5, '18', '11.0'), (5, '18-03', '2.0'), (5, '18-07', '2.0'), (5, '18.0', '1.0'), (5, '18.0', '12.0'), (5, '18.0', '8.0'), (5, '18A', '9.0'), (5, '19', '3.0'), (5, '19', '4.0'), (5, '19', '5.0'), (5, '19', '7.0'), (5, '19', '9.0'), (5, '19-03', '4.0'), (5, '19-11', '4.0'), (5, '19-14', '4.0'), (5, '19-16', '4.0'), (5, '19-18', '4.0'), (5, '19-19', '4.0'), (5, '19-20', '4.0'), (5, '19.0', '12.0'), (5, '19.0', '4.0'), (5, '19.0', '8.0'), (5, '19A', '13.0'), (5, '1GB', '3.0'), (5, '2', '3.0'), (5, '2.0', '1.0'), (5, '2.0', '4.0'), (5, '2.0', '5.0'), (5, '20', '13.0'), (5, '20', '3.0'), (5, '20-06B', '2.0'), (5, '20-09', '2.0'), (5, '20-11', '2.0'), (5, '20.0', '10.0'), (5, '201.0', '6.0'), (5, '203.0', '6.0'), (5, '204.0', '6.0'), (5, '21', '3.0'), (5, '21', '7.0'), (5, '21.0', '1.0'), (5, '21.0', '12.0'), (5, '21.0', '5.0'), (5, '21.0', '8.0'), (5, '217.0', '12.0'), (5, '217.0', '9.0'), (5, '218.0', '12.0'), (5, '219.0', '12.0'), (5, '22', '10.0'), (5, '22', '9.0'), (5, '22.0', '10.0'), (5, '22.0', '8.0'), (5, '220.0', '12.0'), (5, '229', '12.0'), (5, '23', '13.0'), (5, '23', '3.0'), (5, '23', '9.0'), (5, '23.0', '1.0'), (5, '23.0', '12.0'), (5, '233.0', '9.0'), (5, '235.0', '12.0'), (5, '24', '13.0'), (5, '24', '4.0'), (5, '24', '9.0'), (5, '24.0', '12.0'), (5, '24.0', '5.0'), (5, '24.0', '8.0'), (5, '242.0', '12.0'), (5, '25.0', '10.0'), (5, '25.0', '8.0'), (5, '26.0', '12.0'), (5, '26.0', '5.0'), (5, '27', '11.0'), (5, '27', '4.0'), (5, '27.0', '12.0'), (5, '27.0', '5.0'), (5, '27.0', '8.0'), (5, '28', '11.0'), (5, '28', '13.0'), (5, '28', '4.0'), (5, '28.0', '10.0'), (5, '28.0', '5.0'), (5, '29', '13.0'), (5, '29', '9.0'), (5, '29.0', '1.0'), (5, '3', '1.0'), (5, '3', '13.0'), (5, '3.0', '11.0'), (5, '3.0', '12.0'), (5, '3.0', '13.0'), (5, '3.1', '11.0'), (5, '30', '11.0'), (5, '30', '5.0'), (5, '30', '9.0'), (5, '30-1', '4.0'), (5, '30.0', '10.0'), (5, '303.0', '6.0'), (5, '304.0', '6.0'), (5, '305.0', '6.0'), (5, '306.0', '6.0'), (5, '32', '10.0'), (5, '32', '13.0'), (5, '32A', '9.0'), (5, '33', '13.0'), (5, '33.0', '5.0'), (5, '34', '11.0'), (5, '34-1', '4.0'), (5, '34.0', '5.0'), (5, '35', '13.0'), (5, '35.0', '10.0'), (5, '35.0', '12.0'), (5, '36', '9.0'), (5, '36.0', '12.0'), (5, '37', '9.0'), (5, '37.0', '10.0'), (5, '3BY', '3.0'), (5, '4.0', '1.0'), (5, '4.0', '11.0'), (5, '4.0', '12.0'), (5, '4.0', '13.0'), (5, '4.1', '11.0'), (5, '40', '9.0'), (5, '40.0', '10.0'), (5, '401.0', '6.0'), (5, '402.0', '6.0'), (5, '403.0', '6.0'), (5, '404.0', '6.0'), (5, '41', '4.0'), (5, '41', '9.0'), (5, '42.0', '12.0'), (5, '43', '4.0'), (5, '44.0', '12.0'), (5, '44.0', '5.0'), (5, '48', '4.0'), (5, '48.0', '12.0'), (5, '5', '1.0'), (5, '5.0', '10.0'), (5, '501.0', '1.0'), (5, '502.0', '6.0'), (5, '504.0', '6.0'), (5, '505.0', '6.0'), (5, '506.0', '6.0'), (5, '51.0', '10.0'), (5, '51.0', '12.0'), (5, '52', '13.0'), (5, '52', '4.0'), (5, '52.0', '12.0'), (5, '53-2', '4.0'), (5, '53.0', '12.0'), (5, '54.0', '12.0'), (5, '55-11', '4.0'), (5, '55.0', '10.0'), (5, '56', '13.0'), (5, '56.0', '12.0'), (5, '57.0', '9.0'), (5, '59.0', '12.0'), (5, '5AP', '3.0'), (5, '6', '3.0'), (5, '6.0', '12.0'), (5, '6.0', '4.0'), (5, '6.0', '5.0'), (5, '6.0', '9.0'), (5, '60.0', '12.0'), (5, '601.0', '6.0'), (5, '604.0', '6.0'), (5, '607.0', '6.0'), (5, '61', '9.0'), (5, '61.0', '12.0'), (5, '62', '13.0'), (5, '62.0', '12.0'), (5, '63.0', '6.0'), (5, '64', '9.0'), (5, '64.0', '12.0'), (5, '65.0', '12.0'), (5, '65.0', '6.0'), (5, '67.0', '6.0'), (5, '67.0', '9.0'), (5, '68', '13.0'), (5, '68.0', '9.0'), (5, '69.0', '9.0'), (5, '7.0', '10.0'), (5, '7.0', '13.0'), (5, '7.0', '4.0'), (5, '7.1', '11.0'), (5, '70', '13.0'), (5, '702.0', '6.0'), (5, '704.0', '6.0'), (5, '706.0', '6.0'), (5, '707.0', '6.0'), (5, '709.0', '6.0'), (5, '73.0', '9.0'), (5, '74', '13.0'), (5, '74.0', '9.0'), (5, '76.0', '9.0'), (5, '78', '4.0'), (5, '78.1', '12.0'), (5, '8.0', '11.0'), (5, '8.0', '4.0'), (5, '8.0', '9.0'), (5, '801.0', '6.0'), (5, '804.0', '6.0'), (5, '805.0', '6.0'), (5, '82.0', '6.0'), (5, '83.0', '10.0'), (5, '84.0', '12.0'), (5, '86A', '13.0'), (5, '87.0', '9.0'), (5, '88', '13.0'), (5, '9', '13.0'), (5, '9.0', '1.0'), (5, '9.0', '13.0'), (5, '9.0', '4.0'), (5, '9.0', '5.0'), (5, '901.0', '1.0'), (5, '901.0', '6.0'), (5, '902.0', '6.0'), (5, '903.0', '6.0'), (5, '904.0', '6.0'), (5, '907.0', '6.0'), (5, '909.0', '6.0'), (5, '91.0', '10.0'), (5, '91.0', '9.0'), (5, '93.0', '9.0'), (5, '94.0', '12.0'), (5, '99.0', '12.0'), (5, 'A2', '1.0'), (5, 'AE', '13.0'), (5, 'AL51', '8.0'), (5, 'ANNW', '11.0'), (5, 'ANSW', '11.0'), (5, 'AR', '11.0'), (5, 'AR', '13.0'), (5, 'AT', '11.0'), (5, 'AVON', '3.0'), (5, 'B1', '5.0'), (5, 'B2', '5.0'), (5, 'B2', '8.0'), (5, 'BC13', '10.0'), (5, 'BC2', '11.0'), (5, 'BCK', '11.0'), (5, 'BCRK', '3.0'), (5, 'BE-1', '11.0'), (5, 'BE-2', '11.0'), (5, 'BE-3', '11.0'), (5, 'BE-4', '11.0'), (5, 'BE56', '11.0'), (5, 'BEECH', '11.0'), (5, 'BELHV', '3.0'), (5, 'BELL', '11.0'), (5, 'BELVID', '3.0'), (5, 'BETHWR', '5.0'), (5, 'BEUL', '3.0'), (5, 'BFT1', '3.0'), (5, 'BG', '1.0'), (5, 'BIS', '8.0'), (5, 'BNVL', '10.0'), (5, 'BOGU', '3.0'), (5, 'BR', '5.0'), (5, 'BRAS', '11.0'), (5, 'BS26', '10.0'), (5, 'BTNR', '4.0'), (5, 'BULL', '1.0'), (5, 'C', '3.0'), (5, 'C1', '1.0'), (5, 'CAN', '8.0'), (5, 'CAR', '8.0'), (5, 'CASAR', '5.0'), (5, 'CB', '4.0'), (5, 'CC', '1.0'), (5, 'CC01', '8.0'), (5, 'CC04', '8.0'), (5, 'CC05', '8.0'), (5, 'CC06', '8.0'), (5, 'CC15', '8.0'), (5, 'CC2', '10.0'), (5, 'CC24', '8.0'), (5, 'CC34', '8.0'), (5, 'CE', '11.0'), (5, 'CFB8', '3.0'), (5, 'CG', '4.0'), (5, 'CG2', '6.0'), (5, 'CG3A', '6.0'), (5, 'CH', '4.0'), (5, 'CH-B', '10.0'), (5, 'CHE', '8.0'), (5, 'CL-S', '11.0'), (5, 'CL10', '3.0'), (5, 'CL57-2', '8.0'), (5, 'CLNE', '7.0'), (5, 'CLR4', '3.0'), (5, 'CLSW', '7.0'), (5, 'CO', '4.0'), (5, 'CRDL', '4.0'), (5, 'CU02', '8.0'), (5, 'D1', '13.0'), (5, 'D2', '13.0'), (5, 'DA', '4.0'), (5, 'DM', '4.0'), (5, 'DN29', '10.0'), (5, 'DR', '13.0'), (5, 'DV1-A', '10.0'), (5, 'DV1-B', '10.0'), (5, 'DV2-A', '10.0'), (5, 'DW28', '10.0'), (5, 'DYSART', '11.0'), (5, 'E', '5.0'), (5, 'E2', '8.0'), (5, 'EA1', '4.0'), (5, 'EAOX', '4.0'), (5, 'EBBS C', '11.0'), (5, 'EBND', '10.0'), (5, 'ED-1', '10.0'), (5, 'EF', '11.0'), (5, 'EF', '4.0'), (5, 'EH', '4.0'), (5, 'EH1', '1.0'), (5, 'EKWD', '9.0'), (5, 'ELD', '8.0'), (5, 'EM', '10.0'), (5, 'EMIS', '3.0'), (5, 'EO61-1', '8.0'), (5, 'ESC114', '4.0'), (5, 'EWD', '9.0'), (5, 'FAIS', '3.0'), (5, 'FALSTN', '5.0'), (5, 'FC', '3.0'), (5, 'FEN2', '6.0'), (5, 'FL', '11.0'), (5, 'FORT 2', '11.0'), (5, 'FP07', '7.0'), (5, 'FR', '11.0'), (5, 'FR1', '6.0'), (5, 'FR2', '6.0'), (5, 'FR5B', '6.0'), (5, 'G01', '6.0'), (5, 'G02', '6.0'), (5, 'G03', '6.0'), (5, 'G04', '6.0'), (5, 'G10', '6.0'), (5, 'G10B', '8.0'), (5, 'G13', '6.0'), (5, 'G14', '6.0'), (5, 'G15', '6.0'), (5, 'G1A', '8.0'), (5, 'G1B', '8.0'), (5, 'G22', '6.0'), (5, 'G24', '6.0'), (5, 'G25', '6.0'), (5, 'G26', '6.0'), (5, 'G28', '6.0'), (5, 'G2A', '8.0'), (5, 'G2C-2', '8.0'), (5, 'G2D', '8.0'), (5, 'G33', '6.0'), (5, 'G34', '6.0'), (5, 'G36', '6.0'), (5, 'G37', '6.0'), (5, 'G39', '6.0'), (5, 'G3C', '8.0'), (5, 'G40A2', '6.0'), (5, 'G40B', '6.0'), (5, 'G41B', '6.0'), (5, 'G45', '6.0'), (5, 'G49', '6.0'), (5, 'G4B', '8.0'), (5, 'G4C', '8.0'), (5, 'G51', '6.0'), (5, 'G52', '6.0'), (5, 'G53', '6.0'), (5, 'G57', '6.0'), (5, 'G59', '6.0'), (5, 'G5A-2', '8.0'), (5, 'G5C', '8.0'), (5, 'G60', '6.0'), (5, 'G61', '6.0'), (5, 'G62', '6.0'), (5, 'G64', '6.0'), (5, 'G65', '6.0'), (5, 'G66', '6.0'), (5, 'G67', '6.0'), (5, 'G69', '6.0'), (5, 'G6A', '8.0'), (5, 'G71', '6.0'), (5, 'G72', '6.0'), (5, 'G75', '6.0'), (5, 'G7A', '8.0'), (5, 'G8B', '8.0'), (5, 'G8C', '8.0'), (5, 'G8D', '8.0'), (5, 'G9B-1', '8.0'), (5, 'G9B-2', '8.0'), (5, 'GAPL', '1.0'), (5, 'GC09', '11.0'), (5, 'GIB', '6.0'), (5, 'GIDD', '7.0'), (5, 'GLIS', '3.0'), (5, 'GR', '11.0'), (5, 'GR', '13.0'), (5, 'GR', '6.0'), (5, 'GRAPEV', '11.0'), (5, 'H01', '6.0'), (5, 'H01', '7.0'), (5, 'H02', '6.0'), (5, 'H06', '6.0'), (5, 'H08', '6.0'), (5, 'H10', '6.0'), (5, 'H11', '6.0'), (5, 'H13', '6.0'), (5, 'H13', '7.0'), (5, 'H20A', '6.0'), (5, 'H20B', '6.0'), (5, 'H22', '6.0'), (5, 'H23', '6.0'), (5, 'H24', '6.0'), (5, 'H25', '6.0'), (5, 'H27-A', '6.0'), (5, 'H28', '6.0'), (5, 'H29A', '6.0'), (5, 'H29B', '6.0'), (5, 'HA', '11.0'), (5, 'HAL', '1.0'), (5, 'HARR', '7.0'), (5, 'HAY1', '11.0'), (5, 'HE', '4.0'), (5, 'HIGGIN', '11.0'), (5, 'HN14', '3.0'), (5, 'HO', '10.0'), (5, 'HOL', '1.0'), (5, 'HOT SP', '11.0'), (5, 'HOTH', '11.0'), (5, 'HPR', '1.0'), (5, 'HS', '11.0'), (5, 'HV', '1.0'), (5, 'HV-1', '11.0'), (5, 'HV-2', '11.0'), (5, 'HV-3', '11.0'), (5, 'I', '3.0'), (5, 'ID', '11.0'), (5, 'IR', '10.0'), (5, 'IR', '3.0'), (5, 'JAM1', '6.0'), (5, 'JAM2', '6.0'), (5, 'JAM5', '6.0'), (5, 'JARE', '1.0'), (5, 'JEF1', '6.0'), (5, 'K4', '3.0'), (5, 'K8', '3.0'), (5, 'K9', '3.0'), (5, 'KENA', '3.0'), (5, 'KFRK', '7.0'), (5, 'KI', '3.0'), (5, 'KM', '4.0'), (5, 'KM N', '5.0'), (5, 'KM S', '5.0'), (5, 'KTHK', '3.0'), (5, 'LAKE', '7.0'), (5, 'LATT', '5.0'), (5, 'LC', '13.0'), (5, 'LC', '4.0'), (5, 'LI', '10.0'), (5, 'LIT', '8.0'), (5, 'LIT 1', '1.0'), (5, 'LIT 2', '1.0'), (5, 'LJ', '11.0'), (5, 'LK-2', '10.0'), (5, 'LN11', '10.0'), (5, 'LR', '11.0'), (5, 'LU16', '7.0'), (5, 'LW18', '10.0'), (5, 'M', '5.0'), (5, 'M03', '7.0'), (5, 'M07', '7.0'), (5, 'M1', '1.0'), (5, 'MA', '10.0'), (5, 'MAGN', '3.0'), (5, 'MAR 4', '11.0'), (5, 'MARS H', '11.0'), (5, 'MATO', '3.0'), (5, 'MAUR', '1.0'), (5, 'MB62', '8.0'), (5, 'MCRK', '3.0'), (5, 'MG', '11.0'), (5, 'MH', '1.0'), (5, 'MHD2', '3.0'), (5, 'MHD4', '3.0'), (5, 'MILT', '13.0'), (5, 'MING', '7.0'), (5, 'ML', '1.0'), (5, 'ML23', '3.0'), (5, 'MT19', '7.0'), (5, 'MTG', '8.0'), (5, 'MULLS', '5.0'), (5, 'N', '3.0'), (5, 'N1', '3.0'), (5, 'N2', '3.0'), (5, 'N3N5', '3.0'), (5, 'NB', '10.0'), (5, 'NB', '11.0'), (5, 'NB01', '7.0'), (5, 'NB35', '10.0'), (5, 'NBCK', '10.0'), (5, 'NCLAY1', '6.0'), (5, 'NCRK', '3.0'), (5, 'NDRI', '6.0'), (5, 'NE', '11.0'), (5, 'NEBO', '11.0'), (5, 'NGHD', '3.0'), (5, 'NH', '10.0'), (5, 'NH1', '1.0'), (5, 'NICANO', '3.0'), (5, 'NKNB', '10.0'), (5, 'NLIB', '10.0'), (5, 'NM', '13.0'), (5, 'NORTH', '3.0'), (5, 'NPT2', '3.0'), (5, 'NS', '4.0'), (5, 'NSP', '9.0'), (5, 'NWASH', '6.0'), (5, 'OAKGRV', '5.0'), (5, 'OB21', '10.0'), (5, 'OKHL', '4.0'), (5, 'OL', '10.0'), (5, 'OLHI', '13.0'), (5, 'OR1', '6.0'), (5, 'P01A', '1.0'), (5, 'P01A', '7.0'), (5, 'P03', '3.0'), (5, 'P03A', '1.0'), (5, 'P04', '3.0'), (5, 'P04A', '1.0'), (5, 'P05A', '1.0'), (5, 'P07A', '1.0'), (5, 'P09A', '1.0'), (5, 'P10A', '1.0'), (5, 'P11', '7.0'), (5, 'P12A', '1.0'), (5, 'P14', '7.0'), (5, 'P15', '7.0'), (5, 'P15A', '1.0'), (5, 'P16A', '1.0'), (5, 'P17A', '1.0'), (5, 'P18A', '1.0'), (5, 'P19A', '1.0'), (5, 'P202', '7.0'), (5, 'P20A', '7.0'), (5, 'P21A', '1.0'), (5, 'P22A', '7.0'), (5, 'P23A', '1.0'), (5, 'P24', '7.0'), (5, 'P24A', '1.0'), (5, 'P26B', '7.0'), (5, 'P501', '7.0'), (5, 'P80', '7.0'), (5, 'PARKVI', '3.0'), (5, 'PBF', '9.0'), (5, 'PC22', '10.0'), (5, 'PCHT', '11.0'), (5, 'PDN', '9.0'), (5, 'PEE', '8.0'), (5, 'PELE', '3.0'), (5, 'PELH', '13.0'), (5, 'PKNL', '3.0'), (5, 'PNTH', '13.0'), (5, 'POLK', '9.0'), (5, 'PR02', '5.0'), (5, 'PR07', '5.0'), (5, 'PR07', '7.0'), (5, 'PR08', '5.0'), (5, 'PR08', '7.0'), (5, 'PR12A', '7.0'), (5, 'PR13', '7.0'), (5, 'PR16', '5.0'), (5, 'PR17', '5.0'), (5, 'PR19', '7.0'), (5, 'PR20', '7.0'), (5, 'PR21', '5.0'), (5, 'PR21', '7.0'), (5, 'PR22', '5.0'), (5, 'PR22', '7.0'), (5, 'PR23', '8.0'), (5, 'PR23A', '7.0'), (5, 'PR25', '5.0'), (5, 'PR28', '7.0'), (5, 'PR29', '5.0'), (5, 'PR29A', '7.0'), (5, 'PR30', '5.0'), (5, 'PR30', '7.0'), (5, 'PR31A', '7.0'), (5, 'PR32', '5.0'), (5, 'PR33', '7.0'), (5, 'PR36', '7.0'), (5, 'PR38', '7.0'), (5, 'PRCR', '1.0'), (5, 'PRGA', '1.0'), (5, 'PRO', '3.0'), (5, 'PROL', '1.0'), (5, 'PRSA', '1.0'), (5, 'PRSP', '1.0'), (5, 'PRTA', '1.0'), (5, 'PRTO', '1.0'), (5, 'PRWA', '1.0'), (5, 'PRWB', '1.0'), (5, 'PRWJ', '1.0'), (5, 'PRWK', '1.0'), (5, 'PRWM', '1.0'), (5, 'PRWN', '1.0'), (5, 'PSJW3', '3.0'), (5, 'QUA', '11.0'), (5, 'R1', '1.0'), (5, 'RCTL', '13.0'), (5, 'RE', '11.0'), (5, 'RE', '4.0'), (5, 'RICH S', '1.0'), (5, 'RINGW', '1.0'), (5, 'ROSE', '3.0'), (5, 'ROX4', '13.0'), (5, 'RR', '11.0'), (5, 'RR 10', '1.0'), (5, 'RR 5', '1.0'), (5, 'RVRD', '3.0'), (5, 'S 4A', '5.0'), (5, 'S1S2', '5.0'), (5, 'SA04', '11.0'), (5, 'SALM', '4.0'), (5, 'SCC', '11.0'), (5, 'SCLAY', '6.0'), (5, 'SDC', '11.0'), (5, 'SE', '10.0'), (5, 'SE', '11.0'), (5, 'SF1', '6.0'), (5, 'SF18', '3.0'), (5, 'SF3', '6.0'), (5, 'SFAL', '10.0'), (5, 'SH', '3.0'), (5, 'SH-A', '10.0'), (5, 'SH-B', '10.0'), (5, 'SH1', '1.0'), (5, 'SHANGI', '5.0'), (5, 'SHCR', '11.0'), (5, 'SL24', '10.0'), (5, 'SLIB', '10.0'), (5, 'SM', '11.0'), (5, 'SM', '3.0'), (5, 'SM', '4.0'), (5, 'SMAD', '6.0'), (5, 'SN', '1.0'), (5, 'SOUTH', '11.0'), (5, 'SOUTH', '3.0'), (5, 'SQ', '3.0'), (5, 'SSP', '9.0'), (5, 'ST', '13.0'), (5, 'ST2', '10.0'), (5, 'ST5', '10.0'), (5, 'STOK', '6.0'), (5, 'SUM1', '6.0'), (5, 'SUM2', '6.0'), (5, 'SUM4', '6.0'), (5, 'SW', '13.0'), (5, 'SWST', '13.0'), (5, 'T1', '3.0'), (5, 'T1', '8.0'), (5, 'T1T4T5', '5.0'), (5, 'T2', '8.0'), (5, 'TB', '13.0'), (5, 'TCRK', '3.0'), (5, 'TE13', '3.0'), (5, 'TO', '4.0'), (5, 'TR', '13.0'), (5, 'TT', '13.0'), (5, 'TURK', '7.0'), (5, 'UG', '10.0'), (5, 'UG', '13.0'), (5, 'UN', '1.0'), (5, 'UNC', '4.0'), (5, 'UWH', '8.0'), (5, 'VSS', '8.0'), (5, 'W', '1.0'), (5, 'W', '5.0'), (5, 'W12', '7.0'), (5, 'W13', '7.0'), (5, 'W17', '7.0'), (5, 'W2', '1.0'), (5, 'W24', '7.0'), (5, 'W25', '7.0'), (5, 'W31', '7.0'), (5, 'WAB', '9.0'), (5, 'WALL', '3.0'), (5, 'WALNUT', '11.0'), (5, 'WARS', '3.0'), (5, 'WASH1', '3.0'), (5, 'WASH4', '3.0'), (5, 'WASHP', '3.0'), (5, 'WB', '7.0'), (5, 'WBRK', '7.0'), (5, 'WDSD', '13.0'), (5, 'WEL1-2', '1.0'), (5, 'WEM', '8.0'), (5, 'WEST', '11.0'), (5, 'WEST', '3.0'), (5, 'WEST H', '3.0'), (5, 'WEST M', '11.0'), (5, 'WH', '3.0'), (5, 'WHCH', '11.0'), (5, 'WKWD', '9.0'), (5, 'WO06', '11.0'), (5, 'WOLF', '3.0'), (5, 'WOPO', '1.0'), (5, 'WP32', '10.0'), (5, 'WW1', '4.0'), (5, 'YANC', '13.0'), (4, '0003', '8.0'), (4, '0007', '8.0'), (4, '0008', '8.0'), (4, '001', '1.0'), (4, '0010', '8.0'), (4, '0011', '8.0'), (4, '0012', '5.0'), (4, '0014', '8.0'), (4, '0016', '8.0'), (4, '0017', '8.0'), (4, '0018', '5.0'), (4, '0019', '5.0'), (4, '002', '1.0'), (4, '0020', '5.0'), (4, '0020', '8.0'), (4, '0021', '5.0'), (4, '0024', '5.0'), (4, '0024', '8.0'), (4, '0025', '8.0'), (4, '0027', '8.0'), (4, '0028', '8.0'), (4, '0029-B', '5.0'), (4, '003', '1.0'), (4, '0036', '5.0'), (4, '0038', '5.0'), (4, '005', '1.0'), (4, '0052', '5.0'), (4, '0062', '5.0'), (4, '0064', '5.0'), (4, '008', '9.0'), (4, '009', '9.0'), (4, '01', '10.0'), (4, '01', '5.0'), (4, '01-02', '2.0'), (4, '01-04', '8.0'), (4, '01-05', '2.0'), (4, '01-07A', '2.0'), (4, '01-11', '2.0'), (4, '01-13', '2.0'), (4, '01-16', '2.0'), (4, '01-26', '2.0'), (4, '01-29', '2.0'), (4, '01-33', '2.0'), (4, '01-34', '2.0'), (4, '01-35', '2.0'), (4, '01-51', '2.0'), (4, '010', '9.0'), (4, '011', '9.0'), (4, '012', '1.0'), (4, '012', '9.0'), (4, '013', '1.0'), (4, '014', '1.0'), (4, '018', '9.0'), (4, '02', '1.0'), (4, '02', '10.0'), (4, '02-04', '4.0'), (4, '02-05', '4.0'), (4, '02-06', '4.0'), (4, '02.1', '11.0'), (4, '0212', '8.0'), (4, '023', '12.0'), (4, '025', '9.0'), (4, '028A', '9.0'), (4, '029B', '9.0'), (4, '03', '3.0'), (4, '03', '5.0'), (4, '03 EGY', '11.0'), (4, '034', '12.0'), (4, '037B', '9.0'), (4, '03C', '13.0'), (4, '04', '1.0'), (4, '04', '10.0'), (4, '04-09', '8.0'), (4, '04-10', '2.0'), (4, '04-11', '2.0'), (4, '04-21', '2.0'), (4, '05', '10.0'), (4, '05', '13.0'), (4, '054', '12.0'), (4, '058', '9.0'), (4, '06', '5.0'), (4, '06', '9.0'), (4, '06 JAC', '11.0'), (4, '06-07', '2.0'), (4, '06W', '13.0'), (4, '07', '5.0'), (4, '07 BRU', '11.0'), (4, '07-01', '2.0'), (4, '07-02', '2.0'), (4, '07-05', '2.0'), (4, '07-07A', '2.0'), (4, '07-11', '2.0'), (4, '070', '9.0'), (4, '08', '1.0'), (4, '08', '11.0'), (4, '08 CRA', '11.0'), (4, '085', '12.0'), (4, '087', '9.0'), (4, '09', '10.0'), (4, '09', '4.0'), (4, '09', '7.0'), (4, '1', '1.0'), (4, '1.0', '1.0'), (4, '10', '11.0'), (4, '10', '4.0'), (4, '10 PEN', '11.0'), (4, '10.0', '13.0'), (4, '10.0', '8.0'), (4, '10.0', '9.0'), (4, '101', '9.0'), (4, '102', '5.0'), (4, '104', '5.0'), (4, '106.0', '12.0'), (4, '109', '5.0'), (4, '11', '11.0'), (4, '11', '7.0'), (4, '11 PRI', '11.0'), (4, '11.0', '8.0'), (4, '11.0', '9.0'), (4, '1101', '1.0'), (4, '1101.0', '1.0'), (4, '1102A', '1.0'), (4, '112.0', '9.0'), (4, '113A', '5.0'), (4, '114', '5.0'), (4, '118', '5.0'), (4, '119.0', '9.0'), (4, '12', '10.0'), (4, '12', '4.0'), (4, '12-10', '8.0'), (4, '12.0', '13.0'), (4, '12.0', '4.0'), (4, '12.0', '9.0'), (4, '1202', '1.0'), (4, '121.0', '9.0'), (4, '1210', '13.0'), (4, '122', '12.0'), (4, '124', '5.0'), (4, '125', '5.0'), (4, '125.0', '12.0'), (4, '126', '13.0'), (4, '128', '12.0'), (4, '128', '13.0'), (4, '129.0', '9.0'), (4, '12W', '13.0'), (4, '13', '11.0'), (4, '13', '5.0'), (4, '13.0', '8.0'), (4, '13.0', '9.0'), (4, '1301', '3.0'), (4, '1301.0', '1.0'), (4, '131.0', '9.0'), (4, '134', '12.0'), (4, '137', '9.0'), (4, '14', '1.0'), (4, '14-01', '4.0'), (4, '14.0', '11.0'), (4, '146', '12.0'), (4, '148', '9.0'), (4, '15', '10.0'), (4, '15', '11.0'), (4, '15', '5.0'), (4, '15', '7.0'), (4, '15.0', '10.0'), (4, '1507B', '1.0'), (4, '1512B', '3.0'), (4, '16', '1.0'), (4, '16', '10.0'), (4, '16', '11.0'), (4, '16', '4.0'), (4, '16', '5.0'), (4, '16', '7.0'), (4, '16-04', '2.0'), (4, '16.0', '11.0'), (4, '16.0', '4.0'), (4, '16.0', '8.0'), (4, '16.0', '9.0'), (4, '1618.0', '10.0'), (4, '17', '11.0'), (4, '18', '10.0'), (4, '18', '5.0'), (4, '18', '7.0'), (4, '18-02', '2.0'), (4, '18-08', '2.0'), (4, '18.0', '10.0'), (4, '1RB', '3.0'), (4, '2', '1.0'), (4, '2.0', '13.0'), (4, '20', '10.0'), (4, '20', '4.0'), (4, '20', '5.0'), (4, '20', '9.0'), (4, '20-17', '2.0'), (4, '20.0', '12.0'), (4, '20.0', '8.0'), (4, '200', '12.0'), (4, '201.0', '1.0'), (4, '202', '12.0'), (4, '205.0', '6.0'), (4, '208.0', '12.0'), (4, '21', '1.0'), (4, '21', '13.0'), (4, '21', '9.0'), (4, '210', '12.0'), (4, '211', '12.0'), (4, '22', '1.0'), (4, '22', '13.0'), (4, '228', '12.0'), (4, '23', '7.0'), (4, '23.0', '10.0'), (4, '239.0', '12.0'), (4, '24.0', '1.0'), (4, '24.0', '10.0'), (4, '25', '9.0'), (4, '26', '10.0'), (4, '26', '5.0'), (4, '26.0', '10.0'), (4, '26.0', '8.0'), (4, '27', '13.0'), (4, '27.0', '1.0'), (4, '28.0', '12.0'), (4, '28.0', '8.0'), (4, '29', '10.0'), (4, '29.0', '10.0'), (4, '2OT', '3.0'), (4, '2SW', '3.0'), (4, '3', '3.0'), (4, '3.0', '9.0'), (4, '30', '10.0'), (4, '30', '4.0'), (4, '301.0', '6.0'), (4, '302.0', '6.0'), (4, '31', '10.0'), (4, '32', '4.0'), (4, '32.0', '12.0'), (4, '33', '9.0'), (4, '35', '9.0'), (4, '37.0', '12.0'), (4, '37.0', '5.0'), (4, '38', '9.0'), (4, '39', '13.0'), (4, '39', '9.0'), (4, '4', '3.0'), (4, '40', '4.0'), (4, '41.0', '12.0'), (4, '45', '13.0'), (4, '46', '13.0'), (4, '47', '4.0'), (4, '48', '13.0'), (4, '49.0', '12.0'), (4, '4HB', '3.0'), (4, '4N', '1.0'), (4, '4S', '1.0'), (4, '5', '3.0'), (4, '5.0', '12.0'), (4, '5.0', '13.0'), (4, '50', '13.0'), (4, '50.0', '12.0'), (4, '501.0', '6.0'), (4, '506.0', '10.0'), (4, '52.0', '10.0'), (4, '53-1', '4.0'), (4, '54', '13.0'), (4, '55-49', '4.0'), (4, '55.0', '12.0'), (4, '58', '13.0'), (4, '6', '13.0'), (4, '6.0', '13.0'), (4, '6.1', '11.0'), (4, '601.0', '1.0'), (4, '62', '9.0'), (4, '62.0', '10.0'), (4, '62.0', '6.0'), (4, '63.0', '12.0'), (4, '64', '13.0'), (4, '64.0', '6.0'), (4, '66.0', '12.0'), (4, '68.0', '6.0'), (4, '681.0', '11.0'), (4, '7.0', '11.0'), (4, '7.0', '9.0'), (4, '70.0', '9.0'), (4, '701.0', '1.0'), (4, '701.0', '6.0'), (4, '703.0', '6.0'), (4, '71.0', '9.0'), (4, '72.0', '9.0'), (4, '8.0', '1.0'), (4, '8.0', '12.0'), (4, '801.0', '1.0'), (4, '802.0', '6.0'), (4, '803.0', '6.0'), (4, '807.0', '6.0'), (4, '809.0', '6.0'), (4, '85', '13.0'), (4, '86.0', '9.0'), (4, '9.0', '11.0'), (4, '9.0', '12.0'), (4, '90.0', '9.0'), (4, '905.0', '6.0'), (4, '92.0', '10.0'), (4, '92.0', '9.0'), (4, '96.0', '12.0'), (4, '97.0', '12.0'), (4, 'A3', '1.0'), (4, 'ABCH', '3.0'), (4, 'ALARKA', '11.0'), (4, 'ALBE', '3.0'), (4, 'ALMOND', '11.0'), (4, 'ALVI', '13.0'), (4, 'ANDE', '13.0'), (4, 'ANS', '9.0'), (4, 'ANTI', '4.0'), (4, 'AS25', '10.0'), (4, 'ATSL', '3.0'), (4, 'AUROR', '3.0'), (4, 'AUTR', '7.0'), (4, 'B1', '11.0'), (4, 'B1', '8.0'), (4, 'B3', '11.0'), (4, 'B4', '11.0'), (4, 'BC', '11.0'), (4, 'BC1', '11.0'), (4, 'BD', '11.0'), (4, 'BE-7', '11.0'), (4, 'BEAR', '1.0'), (4, 'BEN', '8.0'), (4, 'BERE', '4.0'), (4, 'BFT2', '3.0'), (4, 'BK', '11.0'), (4, 'BLCK', '3.0'), (4, 'BR', '1.0'), (4, 'BUX', '3.0'), (4, 'C2', '1.0'), (4, 'C2', '13.0'), (4, 'C2', '8.0'), (4, 'CA', '4.0'), (4, 'CALY', '3.0'), (4, 'CAS', '11.0'), (4, 'CAST', '1.0'), (4, 'CB', '11.0'), (4, 'CB', '3.0'), (4, 'CC07', '8.0'), (4, 'CC08', '8.0'), (4, 'CC10', '8.0'), (4, 'CC12', '8.0'), (4, 'CC13', '8.0'), (4, 'CC16', '8.0'), (4, 'CC25', '8.0'), (4, 'CC3', '13.0'), (4, 'CC32', '8.0'), (4, 'CCCP', '3.0'), (4, 'CCREEK', '11.0'), (4, 'CF01', '7.0'), (4, 'CF19', '10.0'), (4, 'CFK', '11.0'), (4, 'CFRK', '3.0'), (4, 'CG3B', '6.0'), (4, 'CHAR', '3.0'), (4, 'CHCA', '3.0'), (4, 'CHIN', '3.0'), (4, 'CI', '3.0'), (4, 'CJ', '3.0'), (4, 'CL05', '7.0'), (4, 'CLCE', '7.0'), (4, 'CLEA', '7.0'), (4, 'CLEM', '7.0'), (4, 'CLWE', '7.0'), (4, 'CM', '1.0'), (4, 'CM', '11.0'), (4, 'COMIPE', '1.0'), (4, 'CORI', '4.0'), (4, 'CP', '4.0'), (4, 'CR', '1.0'), (4, 'CR', '11.0'), (4, 'CREEKS', '1.0'), (4, 'CS', '10.0'), (4, 'CS04', '7.0'), (4, 'CS1', '4.0'), (4, 'CSON', '11.0'), (4, 'CUCL', '13.0'), (4, 'CYCK', '3.0'), (4, 'DASW', '3.0'), (4, 'DFB9', '3.0'), (4, 'DHR', '8.0'), (4, 'DR', '11.0'), (4, 'DUCK', '3.0'), (4, 'EAST', '11.0'), (4, 'EAST H', '3.0'), (4, 'EDWAR', '3.0'), (4, 'EL', '3.0'), (4, 'ENF 2', '1.0'), (4, 'ENG', '3.0'), (4, 'ENO', '4.0'), (4, 'EO61-2', '8.0'), (4, 'ES', '4.0'), (4, 'EUR-WP', '9.0'), (4, 'EV', '11.0'), (4, 'FC-1', '11.0'), (4, 'FORT 1', '11.0'), (4, 'FR4', '6.0'), (4, 'G05', '6.0'), (4, 'G09', '6.0'), (4, 'G10C', '8.0'), (4, 'G11', '6.0'), (4, 'G12', '6.0'), (4, 'G16', '6.0'), (4, 'G18', '6.0'), (4, 'G19', '6.0'), (4, 'G1G2', '5.0'), (4, 'G23', '6.0'), (4, 'G29', '6.0'), (4, 'G30', '6.0'), (4, 'G31', '6.0'), (4, 'G32', '6.0'), (4, 'G35', '6.0'), (4, 'G40A1', '6.0'), (4, 'G41A', '6.0'), (4, 'G42B', '6.0'), (4, 'G44', '6.0'), (4, 'G4A', '8.0'), (4, 'G55', '6.0'), (4, 'G56', '6.0'), (4, 'G5B-2', '8.0'), (4, 'G68', '6.0'), (4, 'G6C', '8.0'), (4, 'G73', '6.0'), (4, 'G7B', '8.0'), (4, 'G9A', '8.0'), (4, 'GARL', '7.0'), (4, 'GCK', '11.0'), (4, 'GCRK', '11.0'), (4, 'GILEA', '3.0'), (4, 'GL', '4.0'), (4, 'GLENWD', '11.0'), (4, 'GLV', '11.0'), (4, 'GM', '11.0'), (4, 'GN', '1.0'), (4, 'GROVER', '5.0'), (4, 'GULL', '9.0'), (4, 'GW', '3.0'), (4, 'H', '4.0'), (4, 'H07', '6.0'), (4, 'H12', '7.0'), (4, 'H14', '6.0'), (4, 'H15', '6.0'), (4, 'H16', '6.0'), (4, 'H17', '6.0'), (4, 'H19B', '6.0'), (4, 'HALL', '3.0'), (4, 'HANG', '11.0'), (4, 'HAT', '3.0'), (4, 'HAY2', '11.0'), (4, 'HAYC', '11.0'), (4, 'HB', '3.0'), (4, 'HERR', '7.0'), (4, 'HIAW', '11.0'), (4, 'HLWY', '13.0'), (4, 'HM', '1.0'), (4, 'HS', '1.0'), (4, 'HTOP', '1.0'), (4, 'IH', '11.0'), (4, 'IS20', '10.0'), (4, 'J', '1.0'), (4, 'JAM3', '6.0'), (4, 'JAM4', '6.0'), (4, 'JEF3', '6.0'), (4, 'JEF4', '6.0'), (4, 'K2', '3.0'), (4, 'K3', '3.0'), (4, 'K5', '3.0'), (4, 'K6', '3.0'), (4, 'K7', '3.0'), (4, 'KINGST', '5.0'), (4, 'KITT', '1.0'), (4, 'KITT', '4.0'), (4, 'LAKE G', '1.0'), (4, 'LAUREL', '11.0'), (4, 'LAWNDL', '5.0'), (4, 'LB34', '10.0'), (4, 'LC09', '7.0'), (4, 'LEAS', '13.0'), (4, 'LI14', '10.0'), (4, 'LI65', '8.0'), (4, 'LL', '3.0'), (4, 'LM', '1.0'), (4, 'LOCK', '3.0'), (4, 'LP', '11.0'), (4, 'LRSL', '5.0'), (4, 'M.COVE', '11.0'), (4, 'M2', '1.0'), (4, 'MAR 2', '11.0'), (4, 'MAR 3', '11.0'), (4, 'MAR 5', '11.0'), (4, 'MARB', '11.0'), (4, 'MASM', '3.0'), (4, 'MERR', '3.0'), (4, 'MH07', '7.0'), (4, 'MHD1', '3.0'), (4, 'MHD3', '3.0'), (4, 'MON2B', '6.0'), (4, 'MRB-YO', '5.0'), (4, 'MT24', '3.0'), (4, 'MTEN', '4.0'), (4, 'MTTZ', '13.0'), (4, 'N.COVE', '11.0'), (4, 'NC', '4.0'), (4, 'NCGR2', '6.0'), (4, 'NCLAY2', '6.0'), (4, 'NFAL', '10.0'), (4, 'NGRV', '7.0'), (4, 'NM13', '3.0'), (4, 'NPT1', '3.0'), (4, 'NV', '1.0'), (4, 'NW', '11.0'), (4, 'OCK', '3.0'), (4, 'OLDF', '3.0'), (4, 'OPH', '8.0'), (4, 'OTBEG', '3.0'), (4, 'OW', '4.0'), (4, 'P02', '3.0'), (4, 'P02B', '7.0'), (4, 'P04', '7.0'), (4, 'P05', '3.0'), (4, 'P06', '3.0'), (4, 'P06', '7.0'), (4, 'P07', '3.0'), (4, 'P07', '7.0'), (4, 'P08', '7.0'), (4, 'P10', '7.0'), (4, 'P13', '7.0'), (4, 'P13A', '1.0'), (4, 'P14A', '1.0'), (4, 'P17', '7.0'), (4, 'P18', '7.0'), (4, 'P2', '1.0'), (4, 'P201', '7.0'), (4, 'P21', '7.0'), (4, 'P23', '7.0'), (4, 'P25', '7.0'), (4, 'P25B', '7.0'), (4, 'P3', '1.0'), (4, 'P35', '7.0'), (4, 'P40', '7.0'), (4, 'P45', '7.0'), (4, 'P502', '7.0'), (4, 'P55', '7.0'), (4, 'P65', '7.0'), (4, 'P70', '7.0'), (4, 'P75', '7.0'), (4, 'PANTE', '3.0'), (4, 'PC', '11.0'), (4, 'PF', '11.0'), (4, 'PH', '13.0'), (4, 'PH1', '3.0'), (4, 'PH2', '3.0'), (4, 'PHA2', '9.0'), (4, 'PHB1', '9.0'), (4, 'PHB2', '9.0'), (4, 'PINET', '3.0'), (4, 'PL10', '7.0'), (4, 'PLEASA', '11.0'), (4, 'POLKVL', '5.0'), (4, 'PR04', '7.0'), (4, 'PR13', '5.0'), (4, 'PR20', '8.0'), (4, 'PR32', '8.0'), (4, 'PRBL', '1.0'), (4, 'PRST', '1.0'), (4, 'PRWC', '1.0'), (4, 'PRWD', '1.0'), (4, 'PRWE', '1.0'), (4, 'PRWH', '1.0'), (4, 'PRWI', '1.0'), (4, 'PRWP', '1.0'), (4, 'PV', '11.0'), (4, 'RBN', '8.0'), (4, 'RF', '4.0'), (4, 'RG', '11.0'), (4, 'RIV', '11.0'), (4, 'ROC', '8.0'), (4, 'ROCK', '3.0'), (4, 'ROSE', '7.0'), (4, 'RR 11', '1.0'), (4, 'RR 3', '1.0'), (4, 'RR 4', '1.0'), (4, 'RR 7', '1.0'), (4, 'RR 9', '1.0'), (4, 'RR1-2', '1.0'), (4, 'RRC', '1.0'), (4, 'S 5', '5.0'), (4, 'SA', '11.0'), (4, 'SANDY', '11.0'), (4, 'SASS', '4.0'), (4, 'SB', '10.0'), (4, 'SBCK', '10.0'), (4, 'SC', '1.0'), (4, 'SE', '13.0'), (4, 'SF2', '6.0'), (4, 'SF4', '6.0'), (4, 'SH12', '7.0'), (4, 'SH2', '1.0'), (4, 'SJ', '4.0'), (4, 'SK', '1.0'), (4, 'SKNB', '10.0'), (4, 'SMCA', '3.0'), (4, 'SOOX', '4.0'), (4, 'SOSH', '3.0'), (4, 'STA', '8.0'), (4, 'STEC', '11.0'), (4, 'STEL', '3.0'), (4, 'STON', '13.0'), (4, 'STPT', '3.0'), (4, 'SUGG', '1.0'), (4, 'SUM3', '6.0'), (4, 'SURBA', '3.0'), (4, 'SW', '11.0'), (4, 'SWASH', '6.0'), (4, 'T.COVE', '11.0'), (4, 'T2', '3.0'), (4, 'T2T3', '5.0'), (4, 'TAPO', '11.0'), (4, 'TB', '10.0'), (4, 'TC7', '11.0'), (4, 'TOPT', '11.0'), (4, 'TUSQ', '11.0'), (4, 'UH08', '7.0'), (4, 'UNKA', '11.0'), (4, 'UU17', '7.0'), (4, 'V', '3.0'), (4, 'W', '3.0'), (4, 'W08', '7.0'), (4, 'W26', '7.0'), (4, 'WACO', '5.0'), (4, 'WAD', '8.0'), (4, 'WALS', '1.0'), (4, 'WAN', '3.0'), (4, 'WARN', '11.0'), (4, 'WASH2', '3.0'), (4, 'WDPD', '3.0'), (4, 'WEL 3', '1.0'), (4, 'WIHA', '3.0'), (4, 'WILD', '3.0'), (4, 'WN', '1.0'), (4, 'WND', '9.0'), (4, 'WO', '11.0'), (4, 'WOEL', '4.0'), (4, 'WS', '10.0'), (4, 'WS', '9.0'), (4, 'WS-1', '11.0'), (4, 'WS-2', '11.0'), (4, 'WW', '11.0'), (3, '0013', '8.0'), (3, '0015', '8.0'), (3, '0018', '8.0'), (3, '0019', '8.0'), (3, '002', '12.0'), (3, '0021', '8.0'), (3, '0022', '8.0'), (3, '0026', '8.0'), (3, '004', '1.0'), (3, '004', '12.0'), (3, '006', '12.0'), (3, '007', '12.0'), (3, '008', '1.0'), (3, '008', '12.0'), (3, '009', '1.0'), (3, '009', '12.0'), (3, '01', '1.0'), (3, '01.1', '11.0'), (3, '010', '1.0'), (3, '010', '12.0'), (3, '0102', '1.0'), (3, '0103', '1.0'), (3, '0104', '1.0'), (3, '011', '1.0'), (3, '011', '12.0'), (3, '015', '12.0'), (3, '019', '12.0'), (3, '02', '5.0'), (3, '0201', '1.0'), (3, '021', '12.0'), (3, '022', '12.0'), (3, '024', '12.0'), (3, '027', '12.0'), (3, '028', '12.0'), (3, '029', '12.0'), (3, '03', '1.0'), (3, '03', '10.0'), (3, '032', '12.0'), (3, '033', '12.0'), (3, '035', '12.0'), (3, '036', '12.0'), (3, '037', '12.0'), (3, '038', '12.0'), (3, '03N2', '13.0'), (3, '04 RAM', '11.0'), (3, '04.1', '11.0'), (3, '042', '12.0'), (3, '045', '12.0'), (3, '046', '12.0'), (3, '047', '12.0'), (3, '048', '12.0'), (3, '049', '12.0'), (3, '05', '1.0'), (3, '05', '5.0'), (3, '05 GRE', '11.0'), (3, '05.1', '11.0'), (3, '050', '12.0'), (3, '051', '12.0'), (3, '053', '12.0'), (3, '055', '12.0'), (3, '057', '9.0'), (3, '059', '12.0'), (3, '06', '1.0'), (3, '06', '10.0'), (3, '06.1', '11.0'), (3, '0601', '1.0'), (3, '061', '12.0'), (3, '063', '12.0'), (3, '065', '12.0'), (3, '068', '9.0'), (3, '069', '9.0'), (3, '07', '1.0'), (3, '07', '10.0'), (3, '07.1', '11.0'), (3, '071', '9.0'), (3, '072', '9.0'), (3, '073', '9.0'), (3, '074', '9.0'), (3, '075', '9.0'), (3, '076', '9.0'), (3, '078.1', '12.0'), (3, '079', '12.0'), (3, '08', '10.0'), (3, '08', '5.0'), (3, '08.2', '11.0'), (3, '08.3', '11.0'), (3, '080', '12.0'), (3, '0801', '1.0'), (3, '081', '12.0'), (3, '082', '12.0'), (3, '083', '12.0'), (3, '084', '12.0'), (3, '086', '9.0'), (3, '088', '9.0'), (3, '089', '12.0'), (3, '09', '1.0'), (3, '09.1', '11.0'), (3, '091', '9.0'), (3, '092', '9.0'), (3, '094', '12.0'), (3, '096', '12.0'), (3, '099', '12.0'), (3, '10', '1.0'), (3, '10', '10.0'), (3, '10', '5.0'), (3, '10-03', '4.0'), (3, '100', '9.0'), (3, '1001', '1.0'), (3, '101', '5.0'), (3, '102', '12.0'), (3, '103', '9.0'), (3, '105', '12.0'), (3, '106', '12.0'), (3, '106', '5.0'), (3, '109', '12.0'), (3, '11', '1.0'), (3, '11', '10.0'), (3, '110', '9.0'), (3, '111', '9.0'), (3, '112', '9.0'), (3, '113', '9.0'), (3, '114', '9.0'), (3, '115', '12.0'), (3, '118', '9.0'), (3, '12', '1.0'), (3, '1203', '1.0'), (3, '1204', '1.0'), (3, '1205', '1.0'), (3, '1205.0', '1.0'), (3, '121', '9.0'), (3, '122', '5.0'), (3, '123', '12.0'), (3, '126', '12.0'), (3, '126', '5.0'), (3, '127', '12.0'), (3, '129', '9.0'), (3, '13', '1.0'), (3, '13', '10.0'), (3, '1301', '1.0'), (3, '131', '9.0'), (3, '133', '12.0'), (3, '136', '9.0'), (3, '138', '12.0'), (3, '14', '10.0'), (3, '14.0', '8.0'), (3, '14.0', '9.0'), (3, '140', '9.0'), (3, '1401', '1.0'), (3, '141', '12.0'), (3, '142', '12.0'), (3, '143', '12.0'), (3, '144', '9.0'), (3, '145', '12.0'), (3, '147', '12.0'), (3, '149', '12.0'), (3, '15', '1.0'), (3, '15', '3.0'), (3, '15.0', '9.0'), (3, '150', '12.0'), (3, '151', '12.0'), (3, '17', '1.0'), (3, '17', '10.0'), (3, '17', '5.0'), (3, '17', '9.0'), (3, '17.0', '11.0'), (3, '18', '1.0'), (3, '18.0', '11.0'), (3, '1819.0', '10.0'), (3, '19', '10.0'), (3, '19', '11.0'), (3, '19.0', '11.0'), (3, '1920', '1.0'), (3, '201', '12.0'), (3, '203', '12.0'), (3, '205', '12.0'), (3, '206', '12.0'), (3, '207', '12.0'), (3, '208', '12.0'), (3, '209', '12.0'), (3, '21', '10.0'), (3, '21', '5.0'), (3, '212', '12.0'), (3, '213', '12.0'), (3, '214', '12.0'), (3, '215', '9.0'), (3, '216', '12.0'), (3, '217', '9.0'), (3, '218', '12.0'), (3, '218.0', '9.0'), (3, '219', '12.0'), (3, '22', '5.0'), (3, '220', '12.0'), (3, '221', '12.0'), (3, '222', '12.0'), (3, '224', '12.0'), (3, '225', '12.0'), (3, '227', '9.0'), (3, '23', '1.0'), (3, '23', '10.0'), (3, '23', '5.0'), (3, '230', '12.0'), (3, '231', '9.0'), (3, '232', '9.0'), (3, '233', '9.0'), (3, '234', '12.0'), (3, '235', '12.0'), (3, '236', '12.0'), (3, '237', '12.0'), (3, '239', '12.0'), (3, '24', '1.0'), (3, '24', '10.0'), (3, '24', '5.0'), (3, '240', '12.0'), (3, '241', '12.0'), (3, '242', '12.0'), (3, '243', '12.0'), (3, '25', '10.0'), (3, '25', '5.0'), (3, '2530', '1.0'), (3, '26', '1.0'), (3, '27', '1.0'), (3, '27', '10.0'), (3, '27', '5.0'), (3, '28', '1.0'), (3, '28', '10.0'), (3, '28', '5.0'), (3, '29', '1.0'), (3, '301.0', '1.0'), (3, '31', '5.0'), (3, '32', '5.0'), (3, '33', '10.0'), (3, '34', '10.0'), (3, '34', '5.0'), (3, '35', '10.0'), (3, '35', '5.0'), (3, '36', '5.0'), (3, '37', '10.0'), (3, '37', '5.0'), (3, '38', '5.0'), (3, '39', '5.0'), (3, '40', '10.0'), (3, '40', '5.0'), (3, '401.0', '1.0'), (3, '41', '5.0'), (3, '42', '5.0'), (3, '43', '5.0'), (3, '44', '5.0'), (3, '45', '5.0'), (3, '46', '5.0'), (3, '4MSIC', '3.0'), (3, '4VM A', '3.0'), (3, '5.0', '9.0'), (3, '65', '9.0'), (3, '681', '11.0'), (3, '96.0', '9.0'), (3, 'ARBA', '1.0'), (3, 'BM', '3.0'), (3, 'BUTWD', '1.0'), (3, 'CAN', '11.0'), (3, 'CC19', '8.0'), (3, 'CISL', '3.0'), (3, 'CO', '1.0'), (3, 'CONC', '1.0'), (3, 'CT03', '7.0'), (3, 'CV', '11.0'), (3, 'FAUCT', '1.0'), (3, 'FC-2', '11.0'), (3, 'FF', '3.0'), (3, 'G6B', '8.0'), (3, 'GALATI', '1.0'), (3, 'GR', '1.0'), (3, 'HOOK', '1.0'), (3, 'IBSP', '3.0'), (3, 'INGO', '7.0'), (3, 'IW', '1.0'), (3, 'K1', '3.0'), (3, 'LASKER', '1.0'), (3, 'MM', '9.0'), (3, 'NEWTOW', '1.0'), (3, 'NRIV', '3.0'), (3, 'P01', '3.0'), (3, 'P03', '7.0'), (3, 'P05', '7.0'), (3, 'P09', '7.0'), (3, 'P1', '1.0'), (3, 'P12', '7.0'), (3, 'P16B', '7.0'), (3, 'P30', '7.0'), (3, 'P60', '7.0'), (3, 'PP', '1.0'), (3, 'PROVI', '13.0'), (3, 'PRWQ', '1.0'), (3, 'R2', '1.0'), (3, 'REVERE', '11.0'), (3, 'RX', '1.0'), (3, 'SEABOA', '1.0'), (3, 'SEVERN', '1.0'), (3, 'SJ', '1.0'), (3, 'SLAD', '3.0'), (3, 'SW', '3.0'), (3, 'TLT', '9.0'), (3, 'WD', '1.0'), (3, 'WDS', '4.0'), (2, '001', '12.0'), (2, '003', '12.0'), (2, '005', '12.0'), (2, '012', '12.0'), (2, '013', '12.0'), (2, '014', '12.0'), (2, '016', '12.0'), (2, '017', '12.0'), (2, '018', '12.0'), (2, '020', '12.0'), (2, '025', '12.0'), (2, '026', '12.0'), (2, '03.1', '11.0'), (2, '030', '12.0'), (2, '031', '12.0'), (2, '039', '12.0'), (2, '040', '12.0'), (2, '041', '12.0'), (2, '043', '12.0'), (2, '044', '12.0'), (2, '052', '12.0'), (2, '056', '12.0'), (2, '062', '12.0'), (2, '064', '12.0'), (2, '066', '12.0'), (2, '067', '9.0'), (2, '077', '12.0'), (2, '090', '9.0'), (2, '095', '12.0'), (2, '097', '12.0'), (2, '098', '12.0'), (2, '104', '12.0'), (2, '108', '12.0'), (2, '116', '12.0'), (2, '117', '12.0'), (2, '119', '9.0'), (2, '120', '12.0'), (2, '124', '12.0'), (2, '125', '12.0'), (2, '130', '12.0'), (2, '135', '12.0'), (2, '217', '12.0'), (2, '226', '9.0'), (2, '33', '5.0'), (2, '41', '10.0'), (2, 'EWD', '8.0'), (1, '060', '12.0'), (1, '093', '9.0'), (1, '132', '12.0')]\n"
          ],
          "name": "stdout"
        }
      ]
    },
    {
      "cell_type": "code",
      "metadata": {
        "colab": {
          "base_uri": "https://localhost:8080/"
        },
        "id": "k2BfwBaGks-W",
        "outputId": "2c8d7655-2c66-4713-99f5-ac984eb4e14b"
      },
      "source": [
        "#NorthCarolina\n",
        "\n",
        "sql = '''\n",
        "SELECT * from for_algo where state = 'NC'\n",
        "'''\n",
        "NorthCarolina = pd.read_sql_query(sql, conn)\n",
        "\n",
        "#Some Presincts have only 1 or 2 voters. Lets look at Prescincts that have more than 100 total DEM/REP Voters\n",
        "NorthCarolina = NorthCarolina[(NorthCarolina[\"Total_Votes\"] > 100)]\n",
        "NorthCarolina.sort_values(by=['Total_Votes'], inplace=True)\n",
        "\n",
        "NorthCarolina = NorthCarolina.head(6)\n",
        "\n",
        "#Need an empty row in the 0th index\n",
        "empty_df = pd.DataFrame([[np.nan] * len(NorthCarolina.columns)], columns=NorthCarolina.columns)\n",
        "NorthCarolina = empty_df.append(NorthCarolina, ignore_index=True)\n",
        "NorthCarolina = NorthCarolina.reset_index(drop=True)\n",
        "\n",
        "if GerryManderingIdentifier(NorthCarolina):\n",
        "  print(\"GerryMandering Possible In North Carolina District\")\n",
        "else:\n",
        "  print(\"GerryMandering Not Possible In North Carolina District\")\n",
        "\n"
      ],
      "execution_count": null,
      "outputs": [
        {
          "output_type": "stream",
          "text": [
            "25 % Done\n",
            "50 % Done\n",
            "75 % Done\n",
            "final J 6\n",
            "final K 3\n",
            "final X 152\n",
            "final Y 178\n",
            "GerryMandering Possible In North Carolina District\n"
          ],
          "name": "stdout"
        }
      ]
    },
    {
      "cell_type": "code",
      "metadata": {
        "id": "wxgsOiiRuIrO"
      },
      "source": [
        "## In real life we want to close the cursor\n",
        "## But during development it is easier to manually close when the current session is complete.\n",
        "## cursor.close()"
      ],
      "execution_count": null,
      "outputs": []
    }
  ]
}